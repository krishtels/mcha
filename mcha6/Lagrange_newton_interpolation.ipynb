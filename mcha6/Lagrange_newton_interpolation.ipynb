{
 "cells": [
  {
   "cell_type": "code",
   "execution_count": 3,
   "id": "6b4d70c3",
   "metadata": {},
   "outputs": [],
   "source": [
    "import numpy as np\n",
    "import matplotlib.pyplot as plt\n",
    "from sympy import *\n",
    "from sympy.utilities.lambdify import lambdify"
   ]
  },
  {
   "cell_type": "markdown",
   "id": "d6f8644d",
   "metadata": {},
   "source": [
    "# Lagrange interpolation"
   ]
  },
  {
   "cell_type": "code",
   "execution_count": 4,
   "id": "79c125be",
   "metadata": {},
   "outputs": [],
   "source": [
    "def lagrange_l(x_ls: list, x_j):\n",
    "    x = symbols('x')\n",
    "    lg = 1\n",
    "    n = len(x_ls)\n",
    "    for i in range(n):\n",
    "        if x_j == x_ls[i]:\n",
    "            continue\n",
    "        lg *= (x - x_ls[i]) / (x_j - x_ls[i])\n",
    "    return lg\n",
    "\n",
    "\n",
    "def lagrange_poly(x, y):\n",
    "    if len(x) != len(y):\n",
    "        raise ValueError(\"x and y are not same length\")\n",
    "\n",
    "    n = len(x)\n",
    "    # x = symbols('x')\n",
    "\n",
    "    L = 0\n",
    "    for i in range(n):\n",
    "        L += y[i] * lagrange_l(x, x[i])\n",
    "    return L"
   ]
  },
  {
   "cell_type": "markdown",
   "id": "6b2e5e9b",
   "metadata": {},
   "source": [
    "# Newton interpolation"
   ]
  },
  {
   "cell_type": "code",
   "execution_count": 5,
   "id": "d2cc5fc1",
   "metadata": {},
   "outputs": [],
   "source": [
    "def get_a(x: list, y: list):\n",
    "    a_table = np.zeros(shape=(len(y) - 1, len(y) - 1))\n",
    "    n = a_table.shape[0]\n",
    "\n",
    "    for i in range(n):\n",
    "        a_table[0, i] = (y[i + 1] - y[i]) / (x[i+1] - x[i])\n",
    "\n",
    "    for i in range(1, n):\n",
    "        for j in range(n - i):\n",
    "            a_table[i, j] = (a_table[i - 1, j + 1] - a_table[i - 1, j]) / (x[i+1+j] - x[j])\n",
    "\n",
    "    return a_table\n",
    "\n",
    "\n",
    "def newton_poly(x_ls: list, y_ls: list):\n",
    "    if len(x_ls) != len(y_ls):\n",
    "        raise TypeError(\"x and y must be same size\")\n",
    "\n",
    "    n = len(x_ls)\n",
    "\n",
    "    x = symbols('x')\n",
    "    N = 0\n",
    "    a_table = get_a(x_ls, y_ls)\n",
    "    for i in range(n):\n",
    "        if i == 0:\n",
    "            N += y_ls[0]\n",
    "            continue\n",
    "        x_poly = 1\n",
    "        for j in range(i):\n",
    "            x_poly *= (x-x_ls[j])\n",
    "\n",
    "        N += a_table[i-1, 0] * x_poly\n",
    "\n",
    "    return N"
   ]
  },
  {
   "cell_type": "code",
   "execution_count": null,
   "id": "e43d45ee",
   "metadata": {},
   "outputs": [],
   "source": []
  },
  {
   "cell_type": "markdown",
   "id": "7d32aa1e",
   "metadata": {},
   "source": [
    "## Min squares"
   ]
  },
  {
   "cell_type": "code",
   "execution_count": 6,
   "id": "50519aa0",
   "metadata": {},
   "outputs": [],
   "source": [
    "def sum_of_pow(x, pow):\n",
    "    n = x.shape[0]\n",
    "    sum = 0\n",
    "    for i in range(n):\n",
    "        sum += np.power(x[i], pow)\n",
    "    return sum\n",
    "\n",
    "\n",
    "def sum_x_y_pows(x, y, pow):\n",
    "    n = x.shape[0]\n",
    "    sum = 0\n",
    "\n",
    "    for i in range(n):\n",
    "        sum += y[i] * np.power(x[i], pow)\n",
    "    return sum\n",
    "\n",
    "\n",
    "def min_square(x, y, m):\n",
    "    if y.shape[0] < m:\n",
    "        raise Exception(\"Low size\")\n",
    "\n",
    "    if x.shape[0] != y.shape[0]:\n",
    "        raise Exception(\"size error\")\n",
    "    n = x.shape[0]\n",
    "\n",
    "    A = np.zeros(shape=(m+1, m+1))\n",
    "    for i in range(m+1):\n",
    "        for j in range(m+1):\n",
    "            A[i, j] = sum_of_pow(x, i+j)\n",
    "\n",
    "    b = np.zeros(shape=m + 1)\n",
    "    for i in range(m+1):\n",
    "        b[i] = sum_x_y_pows(x, y, i)\n",
    "\n",
    "    a_vec = np.linalg.solve(A, b)\n",
    "    return a_vec\n",
    "\n",
    "def get_best_approx_poly(x, y):\n",
    "    all_polys = list()\n",
    "    for i in range(1, x.shape[0]):\n",
    "            all_polys.append(min_square(x, y, i))\n",
    "    return all_polys"
   ]
  },
  {
   "cell_type": "code",
   "execution_count": 7,
   "id": "8cd6afd2",
   "metadata": {},
   "outputs": [],
   "source": [
    "class tests:\n",
    "    x_1 = [2, 4, 5]\n",
    "    y_1 = [1, 15, 28]\n",
    "    point_1 = 3\n",
    "\n",
    "    x_2 = [5, 6, 9, 11]\n",
    "    y_2 = [12, 13, 14, 16]\n",
    "    point_2 = 7\n",
    "\n",
    "    x_3 = [-5, -1, 0, 2]\n",
    "    y_3 = [-2, 6, 1, 3]\n",
    "    point_3 = 1\n",
    "\n",
    "    x_4 = [0, 1, 2, 3]\n",
    "    y_4 = [5, 1, 7, 29]\n",
    "    point_4 = 2.5\n",
    "\n",
    "    x_5 = [0.1, 0.5, 0.7, 1.2, 1.5]\n",
    "    y_5 = [1.2, 2.7, 3.8, 4.7, 6]\n",
    "    point_5 = 0.8\n",
    "    \n",
    "    x_6 = [3/2, -1/3, 0, 1/6, 0.5]\n",
    "    y_6 = [-1, -np.sqrt(3)/2, 0, 0.5, 1]\n",
    "    point_6 = 0.25"
   ]
  },
  {
   "cell_type": "markdown",
   "id": "c01a5051",
   "metadata": {},
   "source": [
    "# Tests examples\n"
   ]
  },
  {
   "cell_type": "markdown",
   "id": "9245ea53",
   "metadata": {},
   "source": [
    "## Test 1"
   ]
  },
  {
   "cell_type": "code",
   "execution_count": 8,
   "id": "9d5797cf",
   "metadata": {},
   "outputs": [
    {
     "name": "stdout",
     "output_type": "stream",
     "text": [
      "\tData:\n",
      "x = [2, 4, 5]\n",
      "y = [1, 15, 28]\n",
      "--------------------------------------------------------------------------------\n",
      "\tLagrange interpolation polynomial:\n",
      "L(x) = (5/3 - x/3)*(2 - x/2) + 15*(5 - x)*(x/2 - 1) + 28*(x/3 - 2/3)*(x - 4)\n",
      "Interpolation point: x = 3\n",
      "Lagrange poly result on x = 3\n",
      "L(3) = 6.0000\n",
      "--------------------------------------------------------------------------------\n",
      "\tNewton interpolation polynomial:\n",
      "N(x) = 7.0*x + 2.0*(x - 4)*(x - 2) - 13.0\n",
      "Interpolation point: x = 3\n",
      "Newton poly result on x = 3\n",
      "N(3) = 6.0000\n"
     ]
    }
   ],
   "source": [
    "x = tests.x_1\n",
    "y = tests.y_1\n",
    "x_var = symbols('x')\n",
    "point = tests.point_1\n",
    "\n",
    "\n",
    "newton = newton_poly(x, y)\n",
    "lagrange = lagrange_poly(x, y)\n",
    "\n",
    "print(f\"\\tData:\\n\"\n",
    "      f\"x = {x}\\n\"\n",
    "      f\"y = {y}\")\n",
    "\n",
    "print('-' * 80)\n",
    "\n",
    "print(f'\\tLagrange interpolation polynomial:\\nL(x) = {lagrange}')\n",
    "print(f'Interpolation point: x = {point}')\n",
    "print(f'Lagrange poly result on x = {point}\\nL({point}) = {float(lagrange.subs(x_var, point)):.4f}')\n",
    "\n",
    "print('-' * 80)\n",
    "\n",
    "print(f'\\tNewton interpolation polynomial:\\nN(x) = {newton}')\n",
    "print(f'Interpolation point: x = {point}')\n",
    "print(f'Newton poly result on x = {point}\\nN({point}) = {float(newton.subs(x_var, point)):.4f}')\n"
   ]
  },
  {
   "cell_type": "markdown",
   "id": "16784e68",
   "metadata": {},
   "source": [
    "## Lagrange Polynomial"
   ]
  },
  {
   "cell_type": "code",
   "execution_count": 9,
   "id": "8cadc59c",
   "metadata": {},
   "outputs": [
    {
     "data": {
      "text/latex": [
       "$\\displaystyle \\left(\\frac{5}{3} - \\frac{x}{3}\\right) \\left(2 - \\frac{x}{2}\\right) + 15 \\cdot \\left(5 - x\\right) \\left(\\frac{x}{2} - 1\\right) + 28 \\left(\\frac{x}{3} - \\frac{2}{3}\\right) \\left(x - 4\\right)$"
      ],
      "text/plain": [
       "(5/3 - x/3)*(2 - x/2) + 15*(5 - x)*(x/2 - 1) + 28*(x/3 - 2/3)*(x - 4)"
      ]
     },
     "execution_count": 9,
     "metadata": {},
     "output_type": "execute_result"
    }
   ],
   "source": [
    "lagrange"
   ]
  },
  {
   "cell_type": "code",
   "execution_count": 10,
   "id": "dea28be5",
   "metadata": {},
   "outputs": [
    {
     "data": {
      "text/latex": [
       "$\\displaystyle 2 x^{2} - 5 x + 3$"
      ],
      "text/plain": [
       "2*x**2 - 5*x + 3"
      ]
     },
     "execution_count": 10,
     "metadata": {},
     "output_type": "execute_result"
    }
   ],
   "source": [
    "simplify(lagrange)"
   ]
  },
  {
   "cell_type": "markdown",
   "id": "9fa7faf0",
   "metadata": {},
   "source": [
    "## Newton Polynomial"
   ]
  },
  {
   "cell_type": "code",
   "execution_count": 11,
   "id": "1aee5325",
   "metadata": {},
   "outputs": [
    {
     "data": {
      "text/latex": [
       "$\\displaystyle 7.0 x + 2.0 \\left(x - 4\\right) \\left(x - 2\\right) - 13.0$"
      ],
      "text/plain": [
       "7.0*x + 2.0*(x - 4)*(x - 2) - 13.0"
      ]
     },
     "execution_count": 11,
     "metadata": {},
     "output_type": "execute_result"
    }
   ],
   "source": [
    "newton"
   ]
  },
  {
   "cell_type": "code",
   "execution_count": 12,
   "id": "662554d0",
   "metadata": {},
   "outputs": [
    {
     "data": {
      "text/latex": [
       "$\\displaystyle 2.0 x^{2} - 5.0 x + 3.0$"
      ],
      "text/plain": [
       "2.0*x**2 - 5.0*x + 3.0"
      ]
     },
     "execution_count": 12,
     "metadata": {},
     "output_type": "execute_result"
    }
   ],
   "source": [
    "simplify(newton)"
   ]
  },
  {
   "cell_type": "code",
   "execution_count": 13,
   "id": "7fd659a4",
   "metadata": {},
   "outputs": [
    {
     "data": {
      "image/png": "[encoded data removed]",
      "text/plain": [
       "<Figure size 576x432 with 1 Axes>"
      ]
     },
     "metadata": {
      "needs_background": "light"
     },
     "output_type": "display_data"
    }
   ],
   "source": [
    "# plt.style.use('seaborn-poster')\n",
    "X = np.linspace(-30, 30, 50, endpoint=True)\n",
    "L = lambdify(x_var, lagrange)\n",
    "L_y = L(X)\n",
    "N = lambdify(x_var, newton)\n",
    "N_y = N(X)\n",
    "\n",
    "fig = plt.figure(figsize=(8, 6))\n",
    "# lagrange function\n",
    "plt.plot(X, L_y, label='Lagrange / Newton')\n",
    "\n",
    "# print interpolation points\n",
    "plt.plot(x, y, 'ko', c='red')\n",
    "# axes\n",
    "plt.axvline(color=\"black\", linewidth=0.5)\n",
    "plt.axhline(color='black', linewidth=0.5)\n",
    "plt.grid()\n",
    "\n",
    "plt.title('Lagrange and Newton Polynomials')\n",
    "plt.legend()\n",
    "plt.show()"
   ]
  },
  {
   "cell_type": "markdown",
   "id": "847485df",
   "metadata": {},
   "source": [
    "## Find point value "
   ]
  },
  {
   "cell_type": "code",
   "execution_count": 14,
   "id": "7a5e35c1",
   "metadata": {},
   "outputs": [
    {
     "name": "stdout",
     "output_type": "stream",
     "text": [
      "Point!\n",
      "x = 3\n",
      "L(3) = 6.0\n",
      "N(3) = 6.0\n"
     ]
    },
    {
     "data": {
      "image/png": "[encoded data removed]",
      "text/plain": [
       "<Figure size 576x432 with 1 Axes>"
      ]
     },
     "metadata": {
      "needs_background": "light"
     },
     "output_type": "display_data"
    }
   ],
   "source": [
    "point_x = tests.point_1\n",
    "print(f\"Point!\\nx = {point_x}\")\n",
    "\n",
    "point_y_lagr = L(point_x)\n",
    "point_y_newt = N(point_x)\n",
    "print(f'L({point_x}) = {point_y_lagr}')\n",
    "print(f'N({point_x}) = {point_y_newt}')\n",
    "\n",
    "X = np.linspace(-7, 7, 50, endpoint=True)\n",
    "L_y = L(X)\n",
    "\n",
    "fig = plt.figure(figsize=(8, 6))\n",
    "# lagrange function\n",
    "plt.plot(X, L_y, label='Lagrange / Newton')\n",
    "\n",
    "# print interpolation points\n",
    "plt.plot(point_x, point_y_lagr, 'ko', c='black')\n",
    "plt.plot(x, y, 'ko', c='red')\n",
    "# axes\n",
    "plt.axvline(color=\"black\", linewidth=0.5)\n",
    "plt.axhline(color='black', linewidth=0.5)\n",
    "\n",
    "plt.grid()\n",
    "\n",
    "plt.title('Lagrange and Newton Polynomials')\n",
    "plt.legend()\n",
    "plt.show()"
   ]
  },
  {
   "cell_type": "markdown",
   "id": "b147b35e",
   "metadata": {},
   "source": [
    "## Best apporximation"
   ]
  },
  {
   "cell_type": "code",
   "execution_count": 15,
   "id": "c9443c19",
   "metadata": {},
   "outputs": [
    {
     "data": {
      "image/png": "[encoded data removed]",
      "text/plain": [
       "<Figure size 576x432 with 1 Axes>"
      ]
     },
     "metadata": {
      "needs_background": "light"
     },
     "output_type": "display_data"
    }
   ],
   "source": [
    "import numpy\n",
    "x = np.array(tests.x_1)\n",
    "y = np.array(tests.y_1)\n",
    "\n",
    "\n",
    "x_var = symbols('x')\n",
    "all_best = get_best_approx_poly(x, y)\n",
    "fig = plt.figure(figsize=(8, 6))\n",
    "for i, koef in enumerate(all_best):\n",
    "    col = \"\"\n",
    "    if i == 0:\n",
    "        col = 'slateblue'\n",
    "    elif i == 1:\n",
    "        col = 'indigo'\n",
    "    elif i == 2:\n",
    "        col = 'darkviolet'\n",
    "    elif col == 3:\n",
    "        col = 'violet'\n",
    "    else:\n",
    "        col = 'magenta'\n",
    "    \n",
    "    poly = numpy.polynomial.polynomial.Polynomial(koef)\n",
    "    L = np.linspace(-7, 7)\n",
    "    y = poly(L)\n",
    "    plt.plot(L, y, color = col)\n",
    "plt.grid()\n",
    "plt.plot(tests.x_1, tests.y_1, 'ko', c='red')\n",
    "plt.axvline(color=\"black\", linewidth=0.5)\n",
    "plt.axhline(color='black', linewidth=0.5)\n",
    "plt.title(\"Best approximation by least squares\")\n",
    "plt.show()"
   ]
  },
  {
   "cell_type": "code",
   "execution_count": 16,
   "id": "bc3e6b16",
   "metadata": {},
   "outputs": [
    {
     "data": {
      "text/latex": [
       "$x \\mapsto \\text{-17.285714285714302} + \\text{8.714285714285719}\\,x$"
      ],
      "text/plain": [
       "Polynomial([-17.28571429,   8.71428571], domain=[-1,  1], window=[-1,  1])"
      ]
     },
     "execution_count": 16,
     "metadata": {},
     "output_type": "execute_result"
    }
   ],
   "source": [
    "numpy.polynomial.polynomial.Polynomial(all_best[0])"
   ]
  },
  {
   "cell_type": "code",
   "execution_count": 17,
   "id": "c57bfbf7",
   "metadata": {},
   "outputs": [
    {
     "data": {
      "text/latex": [
       "$x \\mapsto \\text{3.00000000000028} - \\text{5.000000000000191}\\,x + \\text{2.000000000000028}\\,x^{2}$"
      ],
      "text/plain": [
       "Polynomial([ 3., -5.,  2.], domain=[-1,  1], window=[-1,  1])"
      ]
     },
     "execution_count": 17,
     "metadata": {},
     "output_type": "execute_result"
    }
   ],
   "source": [
    "numpy.polynomial.polynomial.Polynomial(all_best[1])"
   ]
  },
  {
   "cell_type": "markdown",
   "id": "032cef3f",
   "metadata": {},
   "source": [
    "## Test 2\n"
   ]
  },
  {
   "cell_type": "code",
   "execution_count": 18,
   "id": "6e5973e8",
   "metadata": {},
   "outputs": [
    {
     "name": "stdout",
     "output_type": "stream",
     "text": [
      "\tData:\n",
      "x = [5, 6, 9, 11]\n",
      "y = [12, 13, 14, 16]\n",
      "--------------------------------------------------------------------------------\n",
      "\tLagrange interpolation polynomial:\n",
      "L(x) = 12*(11/6 - x/6)*(9/4 - x/4)*(6 - x) + 13*(11/5 - x/5)*(3 - x/3)*(x - 5) + 14*(11/2 - x/2)*(x/4 - 5/4)*(x/3 - 2) + 16*(x/6 - 5/6)*(x/5 - 6/5)*(x/2 - 9/2)\n",
      "Interpolation point: x = 7\n",
      "Lagrange poly result on x = 7\n",
      "L(7) = 13.4667\n",
      "--------------------------------------------------------------------------------\n",
      "\tNewton interpolation polynomial:\n",
      "N(x) = 1.0*x + 0.05*(x - 9)*(x - 6)*(x - 5) - 0.166666666666667*(x - 6)*(x - 5) + 7.0\n",
      "Interpolation point: x = 7\n",
      "Newton poly result on x = 7\n",
      "N(7) = 13.4667\n"
     ]
    }
   ],
   "source": [
    "x = tests.x_2\n",
    "y = tests.y_2\n",
    "point = tests.point_2\n",
    "x_var = symbols('x')\n",
    "\n",
    "newton = newton_poly(x, y)\n",
    "lagrange = lagrange_poly(x, y)\n",
    "\n",
    "print(f\"\\tData:\\n\"\n",
    "      f\"x = {x}\\n\"\n",
    "      f\"y = {y}\")\n",
    "\n",
    "print('-' * 80)\n",
    "\n",
    "print(f'\\tLagrange interpolation polynomial:\\nL(x) = {lagrange}')\n",
    "print(f'Interpolation point: x = {point}')\n",
    "print(f'Lagrange poly result on x = {point}\\nL({point}) = {float(lagrange.subs(x_var, point)):.4f}')\n",
    "\n",
    "print('-' * 80)\n",
    "\n",
    "print(f'\\tNewton interpolation polynomial:\\nN(x) = {newton}')\n",
    "print(f'Interpolation point: x = {point}')\n",
    "print(f'Newton poly result on x = {point}\\nN({point}) = {float(newton.subs(x_var, point)):.4f}')"
   ]
  },
  {
   "cell_type": "markdown",
   "id": "8dedf80a",
   "metadata": {},
   "source": [
    "## Lagrange Polynomial"
   ]
  },
  {
   "cell_type": "code",
   "execution_count": 19,
   "id": "2701fee0",
   "metadata": {},
   "outputs": [
    {
     "data": {
      "text/latex": [
       "$\\displaystyle 12 \\cdot \\left(\\frac{11}{6} - \\frac{x}{6}\\right) \\left(\\frac{9}{4} - \\frac{x}{4}\\right) \\left(6 - x\\right) + 13 \\cdot \\left(\\frac{11}{5} - \\frac{x}{5}\\right) \\left(3 - \\frac{x}{3}\\right) \\left(x - 5\\right) + 14 \\cdot \\left(\\frac{11}{2} - \\frac{x}{2}\\right) \\left(\\frac{x}{4} - \\frac{5}{4}\\right) \\left(\\frac{x}{3} - 2\\right) + 16 \\left(\\frac{x}{6} - \\frac{5}{6}\\right) \\left(\\frac{x}{5} - \\frac{6}{5}\\right) \\left(\\frac{x}{2} - \\frac{9}{2}\\right)$"
      ],
      "text/plain": [
       "12*(11/6 - x/6)*(9/4 - x/4)*(6 - x) + 13*(11/5 - x/5)*(3 - x/3)*(x - 5) + 14*(11/2 - x/2)*(x/4 - 5/4)*(x/3 - 2) + 16*(x/6 - 5/6)*(x/5 - 6/5)*(x/2 - 9/2)"
      ]
     },
     "execution_count": 19,
     "metadata": {},
     "output_type": "execute_result"
    }
   ],
   "source": [
    "lagrange"
   ]
  },
  {
   "cell_type": "code",
   "execution_count": 20,
   "id": "34ddf060",
   "metadata": {},
   "outputs": [
    {
     "data": {
      "text/latex": [
       "$\\displaystyle \\frac{x^{3}}{20} - \\frac{7 x^{2}}{6} + \\frac{557 x}{60} - \\frac{23}{2}$"
      ],
      "text/plain": [
       "x**3/20 - 7*x**2/6 + 557*x/60 - 23/2"
      ]
     },
     "execution_count": 20,
     "metadata": {},
     "output_type": "execute_result"
    }
   ],
   "source": [
    "simplify(lagrange)"
   ]
  },
  {
   "cell_type": "markdown",
   "id": "601c7dc4",
   "metadata": {},
   "source": [
    "## Newton Polynomial"
   ]
  },
  {
   "cell_type": "code",
   "execution_count": 21,
   "id": "95cc3ff4",
   "metadata": {},
   "outputs": [
    {
     "data": {
      "text/latex": [
       "$\\displaystyle 1.0 x + 0.05 \\left(x - 9\\right) \\left(x - 6\\right) \\left(x - 5\\right) - 0.166666666666667 \\left(x - 6\\right) \\left(x - 5\\right) + 7.0$"
      ],
      "text/plain": [
       "1.0*x + 0.05*(x - 9)*(x - 6)*(x - 5) - 0.166666666666667*(x - 6)*(x - 5) + 7.0"
      ]
     },
     "execution_count": 21,
     "metadata": {},
     "output_type": "execute_result"
    }
   ],
   "source": [
    "newton"
   ]
  },
  {
   "cell_type": "code",
   "execution_count": 22,
   "id": "e55daba8",
   "metadata": {},
   "outputs": [
    {
     "data": {
      "text/latex": [
       "$\\displaystyle 0.05 x^{3} - 1.16666666666667 x^{2} + 9.28333333333333 x - 11.5$"
      ],
      "text/plain": [
       "0.05*x**3 - 1.16666666666667*x**2 + 9.28333333333333*x - 11.5"
      ]
     },
     "execution_count": 22,
     "metadata": {},
     "output_type": "execute_result"
    }
   ],
   "source": [
    "simplify(newton)"
   ]
  },
  {
   "cell_type": "code",
   "execution_count": 23,
   "id": "f6575024",
   "metadata": {},
   "outputs": [
    {
     "name": "stdout",
     "output_type": "stream",
     "text": [
      "Point!\n",
      "x = 7\n"
     ]
    },
    {
     "ename": "TypeError",
     "evalue": "'numpy.ndarray' object is not callable",
     "output_type": "error",
     "traceback": [
      "\u001b[0;31m---------------------------------------------------------------------------\u001b[0m",
      "\u001b[0;31mTypeError\u001b[0m                                 Traceback (most recent call last)",
      "Input \u001b[0;32mIn [23]\u001b[0m, in \u001b[0;36m<cell line: 4>\u001b[0;34m()\u001b[0m\n\u001b[1;32m      1\u001b[0m point_x \u001b[38;5;241m=\u001b[39m tests\u001b[38;5;241m.\u001b[39mpoint_2\n\u001b[1;32m      2\u001b[0m \u001b[38;5;28mprint\u001b[39m(\u001b[38;5;124mf\u001b[39m\u001b[38;5;124m\"\u001b[39m\u001b[38;5;124mPoint!\u001b[39m\u001b[38;5;130;01m\\n\u001b[39;00m\u001b[38;5;124mx = \u001b[39m\u001b[38;5;132;01m{\u001b[39;00mpoint_x\u001b[38;5;132;01m}\u001b[39;00m\u001b[38;5;124m\"\u001b[39m)\n\u001b[0;32m----> 4\u001b[0m point_y_lagr \u001b[38;5;241m=\u001b[39m \u001b[43mL\u001b[49m\u001b[43m(\u001b[49m\u001b[43mpoint_x\u001b[49m\u001b[43m)\u001b[49m\n\u001b[1;32m      5\u001b[0m point_y_newt \u001b[38;5;241m=\u001b[39m N(point_x)\n\u001b[1;32m      6\u001b[0m \u001b[38;5;28mprint\u001b[39m(\u001b[38;5;124mf\u001b[39m\u001b[38;5;124m'\u001b[39m\u001b[38;5;124mL(\u001b[39m\u001b[38;5;132;01m{\u001b[39;00mpoint_x\u001b[38;5;132;01m}\u001b[39;00m\u001b[38;5;124m) = \u001b[39m\u001b[38;5;132;01m{\u001b[39;00mpoint_y_lagr\u001b[38;5;132;01m}\u001b[39;00m\u001b[38;5;124m'\u001b[39m)\n",
      "\u001b[0;31mTypeError\u001b[0m: 'numpy.ndarray' object is not callable"
     ]
    }
   ],
   "source": [
    "point_x = tests.point_2\n",
    "print(f\"Point!\\nx = {point_x}\")\n",
    "\n",
    "point_y_lagr = L(point_x)\n",
    "point_y_newt = N(point_x)\n",
    "print(f'L({point_x}) = {point_y_lagr}')\n",
    "print(f'N({point_x}) = {point_y_newt}')\n",
    "\n",
    "X = np.linspace(-13, 20, 50, endpoint=True)\n",
    "L_y = L(X)\n",
    "\n",
    "fig = plt.figure(figsize=(8, 6))\n",
    "# lagrange function\n",
    "plt.plot(X, L_y, label='Lagrange / Newton')\n",
    "\n",
    "# print interpolation points\n",
    "plt.plot(point_x, point_y_lagr, 'ko', c='black')\n",
    "plt.plot(x, y, 'ko', c='red')\n",
    "# axes\n",
    "plt.axvline(color=\"black\", linewidth=0.5)\n",
    "plt.axhline(color='black', linewidth=0.5)\n",
    "\n",
    "plt.grid()\n",
    "\n",
    "plt.title('Lagrange and Newton Polynomials')\n",
    "plt.legend()\n",
    "plt.show()"
   ]
  },
  {
   "cell_type": "code",
   "execution_count": null,
   "id": "2d599743",
   "metadata": {},
   "outputs": [],
   "source": []
  },
  {
   "cell_type": "markdown",
   "id": "a546f2ff",
   "metadata": {},
   "source": [
    "## Find point value "
   ]
  },
  {
   "cell_type": "code",
   "execution_count": 24,
   "id": "0f3a5375",
   "metadata": {},
   "outputs": [
    {
     "data": {
      "image/png": "[encoded data removed]",
      "text/plain": [
       "<Figure size 576x432 with 1 Axes>"
      ]
     },
     "metadata": {
      "needs_background": "light"
     },
     "output_type": "display_data"
    }
   ],
   "source": [
    "# plt.style.use('seaborn-poster')\n",
    "X = np.linspace(-30, 30, 50, endpoint=True)\n",
    "L = lambdify(x_var, lagrange)\n",
    "L_y = L(X)\n",
    "N = lambdify(x_var, newton)\n",
    "N_y = N(X)\n",
    "\n",
    "fig = plt.figure(figsize=(8, 6))\n",
    "# lagrange function\n",
    "plt.plot(X, L_y, label='Lagrange / Newton')\n",
    "\n",
    "# print interpolation points\n",
    "plt.plot(x, y, 'ko', c='red')\n",
    "# axes\n",
    "plt.axvline(color=\"black\", linewidth=0.5)\n",
    "plt.axhline(color='black', linewidth=0.5)\n",
    "plt.grid()\n",
    "\n",
    "plt.title('Lagrange and Newton Polynomials')\n",
    "plt.legend()\n",
    "plt.show()\n"
   ]
  },
  {
   "cell_type": "code",
   "execution_count": null,
   "id": "1e35ade1",
   "metadata": {},
   "outputs": [],
   "source": []
  },
  {
   "cell_type": "markdown",
   "id": "0b1feac6",
   "metadata": {},
   "source": [
    "## Best apporximation"
   ]
  },
  {
   "cell_type": "code",
   "execution_count": 25,
   "id": "d4c64f2c",
   "metadata": {},
   "outputs": [
    {
     "data": {
      "image/png": "[encoded data removed]",
      "text/plain": [
       "<Figure size 576x432 with 1 Axes>"
      ]
     },
     "metadata": {
      "needs_background": "light"
     },
     "output_type": "display_data"
    }
   ],
   "source": [
    "import numpy\n",
    "x = np.array(tests.x_2)\n",
    "y = np.array(tests.y_2)\n",
    "\n",
    "\n",
    "x_var = symbols('x')\n",
    "all_best = get_best_approx_poly(x, y)\n",
    "fig = plt.figure(figsize=(8, 6))\n",
    "for i, koef in enumerate(all_best):\n",
    "    col = \"\"\n",
    "    if i == 0:\n",
    "        col = 'slateblue'\n",
    "    elif i == 1:\n",
    "        col = 'indigo'\n",
    "    elif i == 2:\n",
    "        col = 'darkviolet'\n",
    "    elif col == 3:\n",
    "        col = 'violet'\n",
    "    else:\n",
    "        col = 'magenta'\n",
    "    \n",
    "    poly = numpy.polynomial.polynomial.Polynomial(koef)\n",
    "    L = np.linspace(-13, 20)\n",
    "    y = poly(L)\n",
    "    plt.plot(L, y, color = col)\n",
    "plt.grid()\n",
    "plt.plot(tests.x_2, tests.y_2, 'ko', c='red')\n",
    "plt.axvline(color=\"black\", linewidth=0.5)\n",
    "plt.axhline(color='black', linewidth=0.5)\n",
    "plt.title(\"Best approximation by least squares\")\n",
    "plt.show()"
   ]
  },
  {
   "cell_type": "code",
   "execution_count": 26,
   "id": "e95120b5",
   "metadata": {},
   "outputs": [
    {
     "data": {
      "text/latex": [
       "$x \\mapsto \\text{9.065934065934071} + \\text{0.6043956043956038}\\,x$"
      ],
      "text/plain": [
       "Polynomial([9.06593407, 0.6043956 ], domain=[-1,  1], window=[-1,  1])"
      ]
     },
     "execution_count": 26,
     "metadata": {},
     "output_type": "execute_result"
    }
   ],
   "source": [
    "numpy.polynomial.polynomial.Polynomial(all_best[0])"
   ]
  },
  {
   "cell_type": "code",
   "execution_count": 27,
   "id": "15b54570",
   "metadata": {
    "scrolled": true
   },
   "outputs": [
    {
     "data": {
      "text/latex": [
       "$x \\mapsto \\text{12.169491525423739} - \\text{0.2514124293785342}\\,x + \\text{0.053672316384180976}\\,x^{2}$"
      ],
      "text/plain": [
       "Polynomial([12.16949153, -0.25141243,  0.05367232], domain=[-1,  1], window=[-1,  1])"
      ]
     },
     "execution_count": 27,
     "metadata": {},
     "output_type": "execute_result"
    }
   ],
   "source": [
    "numpy.polynomial.polynomial.Polynomial(all_best[1])"
   ]
  },
  {
   "cell_type": "code",
   "execution_count": 28,
   "id": "166eb2c7",
   "metadata": {},
   "outputs": [
    {
     "data": {
      "text/latex": [
       "$x \\mapsto \\text{-11.500000000001963} + \\text{9.283333333334225}\\,x - \\text{1.166666666666794}\\,x^{2} + \\text{0.05000000000000571}\\,x^{3}$"
      ],
      "text/plain": [
       "Polynomial([-11.5       ,   9.28333333,  -1.16666667,   0.05      ], domain=[-1,  1], window=[-1,  1])"
      ]
     },
     "execution_count": 28,
     "metadata": {},
     "output_type": "execute_result"
    }
   ],
   "source": [
    "numpy.polynomial.polynomial.Polynomial(all_best[2])\n"
   ]
  },
  {
   "cell_type": "code",
   "execution_count": null,
   "id": "4bf3d4b3",
   "metadata": {},
   "outputs": [],
   "source": []
  },
  {
   "cell_type": "code",
   "execution_count": 29,
   "id": "4e053f8c",
   "metadata": {},
   "outputs": [],
   "source": [
    "class task:\n",
    "    k = 5\n",
    "    m = 2.5\n",
    "\n",
    "    x = np.array([0, 0.1, 0.2, 0.3, 0.4, 0.5, 0.6, 0.7, 0.8, 0.9, 1])\n",
    "    p = np.array([0, 0.41, 0.79, 1.13, 1.46, 1.76, 2.04, 2.3, 2.55, 2.79, 3.01])\n",
    "\n",
    "    y = p + (-1)**k * m\n",
    "    point = 0.47"
   ]
  },
  {
   "cell_type": "markdown",
   "id": "5f42318f",
   "metadata": {},
   "source": [
    "## Task\n"
   ]
  },
  {
   "cell_type": "code",
   "execution_count": 30,
   "id": "b0893449",
   "metadata": {},
   "outputs": [
    {
     "name": "stdout",
     "output_type": "stream",
     "text": [
      "\tData:\n",
      "x = [0.  0.1 0.2 0.3 0.4 0.5 0.6 0.7 0.8 0.9 1. ]\n",
      "y = [-2.5  -2.09 -1.71 -1.37 -1.04 -0.74 -0.46 -0.2   0.05  0.29  0.51]\n",
      "k = 5\n",
      "m = 2.5\n",
      "\n",
      "--------------------------------------------------------------------------------\n",
      "\tLagrange interpolation polynomial:\n",
      "L(x) = -20.9*x*(1.11111111111111 - 1.11111111111111*x)*(1.125 - 1.25*x)*(1.14285714285714 - 1.42857142857143*x)*(1.16666666666667 - 1.66666666666667*x)*(1.2 - 2.0*x)*(1.25 - 2.5*x)*(1.33333333333333 - 3.33333333333333*x)*(1.5 - 5.0*x)*(2.0 - 10.0*x) - 8.55*x*(1.25 - 1.25*x)*(1.28571428571429 - 1.42857142857143*x)*(1.33333333333333 - 1.66666666666667*x)*(1.4 - 2.0*x)*(1.5 - 2.5*x)*(1.66666666666667 - 3.33333333333333*x)*(2.0 - 5.0*x)*(3.0 - 10.0*x)*(10.0*x - 1.0) - 4.56666666666667*x*(1.42857142857143 - 1.42857142857143*x)*(1.5 - 1.66666666666667*x)*(1.6 - 2.0*x)*(1.75 - 2.5*x)*(2.0 - 3.33333333333333*x)*(2.5 - 5.0*x)*(4.0 - 10.0*x)*(5.0*x - 0.5)*(10.0*x - 2.0) - 2.6*x*(1.66666666666667 - 1.66666666666667*x)*(1.8 - 2.0*x)*(2.0 - 2.5*x)*(2.33333333333333 - 3.33333333333333*x)*(3.0 - 5.0*x)*(5.0 - 10.0*x)*(3.33333333333333*x - 0.333333333333333)*(5.0*x - 1.0)*(10.0*x - 3.0) - 1.48*x*(2.0 - 2.0*x)*(2.25 - 2.5*x)*(2.66666666666667 - 3.33333333333333*x)*(3.5 - 5.0*x)*(6.0 - 10.0*x)*(2.5*x - 0.25)*(3.33333333333333*x - 0.666666666666667)*(5.0*x - 1.5)*(10.0*x - 4.0) - 0.766666666666667*x*(2.5 - 2.5*x)*(3.0 - 3.33333333333333*x)*(4.0 - 5.0*x)*(7.0 - 10.0*x)*(2.0*x - 0.2)*(2.5*x - 0.5)*(3.33333333333333*x - 1.0)*(5.0*x - 2.0)*(10.0*x - 5.0) - 0.285714285714286*x*(3.33333333333333 - 3.33333333333333*x)*(4.5 - 5.0*x)*(7.99999999999999 - 9.99999999999999*x)*(1.66666666666667*x - 0.166666666666667)*(2.0*x - 0.4)*(2.5*x - 0.75)*(3.33333333333333*x - 1.33333333333333)*(5.0*x - 2.5)*(10.0*x - 6.0) + 0.0624999999999998*x*(5.0 - 5.0*x)*(9.0 - 10.0*x)*(1.42857142857143*x - 0.142857142857143)*(1.66666666666667*x - 0.333333333333333)*(2.0*x - 0.6)*(2.5*x - 1.0)*(3.33333333333333*x - 1.66666666666667)*(5.0*x - 3.0)*(9.99999999999999*x - 6.99999999999999) + 0.322222222222222*x*(10.0 - 10.0*x)*(1.25*x - 0.125)*(1.42857142857143*x - 0.285714285714286)*(1.66666666666667*x - 0.5)*(2.0*x - 0.8)*(2.5*x - 1.25)*(3.33333333333333*x - 2.0)*(5.0*x - 3.5)*(10.0*x - 8.0) + 0.51*x*(1.11111111111111*x - 0.111111111111111)*(1.25*x - 0.25)*(1.42857142857143*x - 0.428571428571429)*(1.66666666666667*x - 0.666666666666667)*(2.0*x - 1.0)*(2.5*x - 1.5)*(3.33333333333333*x - 2.33333333333333)*(5.0*x - 4.0)*(10.0*x - 9.0) - 2.5*(1.0 - 10.0*x)*(1.0 - 5.0*x)*(1.0 - 3.33333333333333*x)*(1.0 - 2.5*x)*(1.0 - 2.0*x)*(1.0 - 1.66666666666667*x)*(1.0 - 1.42857142857143*x)*(1.0 - 1.25*x)*(1.0 - 1.11111111111111*x)*(1.0 - 1.0*x)\n",
      "Interpolation point: x = 0.47\n",
      "Lagrange poly result on x = 0.47\n",
      "L(0.47) = -0.8273\n",
      "--------------------------------------------------------------------------------\n",
      "\tNewton interpolation polynomial:\n",
      "N(x) = 3279.32098765431*x*(x - 0.9)*(x - 0.8)*(x - 0.7)*(x - 0.6)*(x - 0.5)*(x - 0.4)*(x - 0.3)*(x - 0.2)*(x - 0.1) - 2066.79894179893*x*(x - 0.8)*(x - 0.7)*(x - 0.6)*(x - 0.5)*(x - 0.4)*(x - 0.3)*(x - 0.2)*(x - 0.1) + 1165.6746031746*x*(x - 0.7)*(x - 0.6)*(x - 0.5)*(x - 0.4)*(x - 0.3)*(x - 0.2)*(x - 0.1) - 575.396825396822*x*(x - 0.6)*(x - 0.5)*(x - 0.4)*(x - 0.3)*(x - 0.2)*(x - 0.1) + 236.11111111111*x*(x - 0.5)*(x - 0.4)*(x - 0.3)*(x - 0.2)*(x - 0.1) - 74.9999999999996*x*(x - 0.4)*(x - 0.3)*(x - 0.2)*(x - 0.1) + 16.6666666666665*x*(x - 0.3)*(x - 0.2)*(x - 0.1) - 1.66666666666662*x*(x - 0.2)*(x - 0.1) - 1.50000000000001*x*(x - 0.1) + 4.1*x - 2.5\n",
      "Interpolation point: x = 0.47\n",
      "Newton poly result on x = 0.47\n",
      "N(0.47) = -0.8273\n"
     ]
    }
   ],
   "source": [
    "x = task.x\n",
    "y = task.y\n",
    "point = task.point\n",
    "x_var = symbols('x')\n",
    "\n",
    "newton = newton_poly(x, y)\n",
    "lagrange = lagrange_poly(x, y)\n",
    "\n",
    "print(f\"\\tData:\\n\"\n",
    "      f\"x = {x}\\n\"\n",
    "      f\"y = {y}\\n\"\n",
    "      f\"k = {task.k}\\n\"\n",
    "      f\"m = {task.m}\\n\")\n",
    "\n",
    "print('-' * 80)\n",
    "\n",
    "print(f'\\tLagrange interpolation polynomial:\\nL(x) = {lagrange}')\n",
    "print(f'Interpolation point: x = {point}')\n",
    "print(f'Lagrange poly result on x = {point}\\nL({point}) = {float(lagrange.subs(x_var, point)):.4f}')\n",
    "\n",
    "print('-' * 80)\n",
    "\n",
    "print(f'\\tNewton interpolation polynomial:\\nN(x) = {newton}')\n",
    "print(f'Interpolation point: x = {point}')\n",
    "print(f'Newton poly result on x = {point}\\nN({point}) = {float(newton.subs(x_var, point)):.4f}')"
   ]
  },
  {
   "cell_type": "markdown",
   "id": "7b0689c5",
   "metadata": {},
   "source": [
    "## Lagrange Polynomial"
   ]
  },
  {
   "cell_type": "code",
   "execution_count": 31,
   "id": "81ad5fde",
   "metadata": {},
   "outputs": [
    {
     "data": {
      "text/latex": [
       "$\\displaystyle - 20.9 x \\left(1.11111111111111 - 1.11111111111111 x\\right) \\left(1.125 - 1.25 x\\right) \\left(1.14285714285714 - 1.42857142857143 x\\right) \\left(1.16666666666667 - 1.66666666666667 x\\right) \\left(1.2 - 2.0 x\\right) \\left(1.25 - 2.5 x\\right) \\left(1.33333333333333 - 3.33333333333333 x\\right) \\left(1.5 - 5.0 x\\right) \\left(2.0 - 10.0 x\\right) - 8.55 x \\left(1.25 - 1.25 x\\right) \\left(1.28571428571429 - 1.42857142857143 x\\right) \\left(1.33333333333333 - 1.66666666666667 x\\right) \\left(1.4 - 2.0 x\\right) \\left(1.5 - 2.5 x\\right) \\left(1.66666666666667 - 3.33333333333333 x\\right) \\left(2.0 - 5.0 x\\right) \\left(3.0 - 10.0 x\\right) \\left(10.0 x - 1.0\\right) - 4.56666666666667 x \\left(1.42857142857143 - 1.42857142857143 x\\right) \\left(1.5 - 1.66666666666667 x\\right) \\left(1.6 - 2.0 x\\right) \\left(1.75 - 2.5 x\\right) \\left(2.0 - 3.33333333333333 x\\right) \\left(2.5 - 5.0 x\\right) \\left(4.0 - 10.0 x\\right) \\left(5.0 x - 0.5\\right) \\left(10.0 x - 2.0\\right) - 2.6 x \\left(1.66666666666667 - 1.66666666666667 x\\right) \\left(1.8 - 2.0 x\\right) \\left(2.0 - 2.5 x\\right) \\left(2.33333333333333 - 3.33333333333333 x\\right) \\left(3.0 - 5.0 x\\right) \\left(5.0 - 10.0 x\\right) \\left(3.33333333333333 x - 0.333333333333333\\right) \\left(5.0 x - 1.0\\right) \\left(10.0 x - 3.0\\right) - 1.48 x \\left(2.0 - 2.0 x\\right) \\left(2.25 - 2.5 x\\right) \\left(2.66666666666667 - 3.33333333333333 x\\right) \\left(3.5 - 5.0 x\\right) \\left(6.0 - 10.0 x\\right) \\left(2.5 x - 0.25\\right) \\left(3.33333333333333 x - 0.666666666666667\\right) \\left(5.0 x - 1.5\\right) \\left(10.0 x - 4.0\\right) - 0.766666666666667 x \\left(2.5 - 2.5 x\\right) \\left(3.0 - 3.33333333333333 x\\right) \\left(4.0 - 5.0 x\\right) \\left(7.0 - 10.0 x\\right) \\left(2.0 x - 0.2\\right) \\left(2.5 x - 0.5\\right) \\left(3.33333333333333 x - 1.0\\right) \\left(5.0 x - 2.0\\right) \\left(10.0 x - 5.0\\right) - 0.285714285714286 x \\left(3.33333333333333 - 3.33333333333333 x\\right) \\left(4.5 - 5.0 x\\right) \\left(7.99999999999999 - 9.99999999999999 x\\right) \\left(1.66666666666667 x - 0.166666666666667\\right) \\left(2.0 x - 0.4\\right) \\left(2.5 x - 0.75\\right) \\left(3.33333333333333 x - 1.33333333333333\\right) \\left(5.0 x - 2.5\\right) \\left(10.0 x - 6.0\\right) + 0.0624999999999998 x \\left(5.0 - 5.0 x\\right) \\left(9.0 - 10.0 x\\right) \\left(1.42857142857143 x - 0.142857142857143\\right) \\left(1.66666666666667 x - 0.333333333333333\\right) \\left(2.0 x - 0.6\\right) \\left(2.5 x - 1.0\\right) \\left(3.33333333333333 x - 1.66666666666667\\right) \\left(5.0 x - 3.0\\right) \\left(9.99999999999999 x - 6.99999999999999\\right) + 0.322222222222222 x \\left(10.0 - 10.0 x\\right) \\left(1.25 x - 0.125\\right) \\left(1.42857142857143 x - 0.285714285714286\\right) \\left(1.66666666666667 x - 0.5\\right) \\left(2.0 x - 0.8\\right) \\left(2.5 x - 1.25\\right) \\left(3.33333333333333 x - 2.0\\right) \\left(5.0 x - 3.5\\right) \\left(10.0 x - 8.0\\right) + 0.51 x \\left(1.11111111111111 x - 0.111111111111111\\right) \\left(1.25 x - 0.25\\right) \\left(1.42857142857143 x - 0.428571428571429\\right) \\left(1.66666666666667 x - 0.666666666666667\\right) \\left(2.0 x - 1.0\\right) \\left(2.5 x - 1.5\\right) \\left(3.33333333333333 x - 2.33333333333333\\right) \\left(5.0 x - 4.0\\right) \\left(10.0 x - 9.0\\right) - 2.5 \\cdot \\left(1.0 - 10.0 x\\right) \\left(1.0 - 5.0 x\\right) \\left(1.0 - 3.33333333333333 x\\right) \\left(1.0 - 2.5 x\\right) \\left(1.0 - 2.0 x\\right) \\left(1.0 - 1.66666666666667 x\\right) \\left(1.0 - 1.42857142857143 x\\right) \\left(1.0 - 1.25 x\\right) \\left(1.0 - 1.11111111111111 x\\right) \\left(1.0 - 1.0 x\\right)$"
      ],
      "text/plain": [
       "-20.9*x*(1.11111111111111 - 1.11111111111111*x)*(1.125 - 1.25*x)*(1.14285714285714 - 1.42857142857143*x)*(1.16666666666667 - 1.66666666666667*x)*(1.2 - 2.0*x)*(1.25 - 2.5*x)*(1.33333333333333 - 3.33333333333333*x)*(1.5 - 5.0*x)*(2.0 - 10.0*x) - 8.55*x*(1.25 - 1.25*x)*(1.28571428571429 - 1.42857142857143*x)*(1.33333333333333 - 1.66666666666667*x)*(1.4 - 2.0*x)*(1.5 - 2.5*x)*(1.66666666666667 - 3.33333333333333*x)*(2.0 - 5.0*x)*(3.0 - 10.0*x)*(10.0*x - 1.0) - 4.56666666666667*x*(1.42857142857143 - 1.42857142857143*x)*(1.5 - 1.66666666666667*x)*(1.6 - 2.0*x)*(1.75 - 2.5*x)*(2.0 - 3.33333333333333*x)*(2.5 - 5.0*x)*(4.0 - 10.0*x)*(5.0*x - 0.5)*(10.0*x - 2.0) - 2.6*x*(1.66666666666667 - 1.66666666666667*x)*(1.8 - 2.0*x)*(2.0 - 2.5*x)*(2.33333333333333 - 3.33333333333333*x)*(3.0 - 5.0*x)*(5.0 - 10.0*x)*(3.33333333333333*x - 0.333333333333333)*(5.0*x - 1.0)*(10.0*x - 3.0) - 1.48*x*(2.0 - 2.0*x)*(2.25 - 2.5*x)*(2.66666666666667 - 3.33333333333333*x)*(3.5 - 5.0*x)*(6.0 - 10.0*x)*(2.5*x - 0.25)*(3.33333333333333*x - 0.666666666666667)*(5.0*x - 1.5)*(10.0*x - 4.0) - 0.766666666666667*x*(2.5 - 2.5*x)*(3.0 - 3.33333333333333*x)*(4.0 - 5.0*x)*(7.0 - 10.0*x)*(2.0*x - 0.2)*(2.5*x - 0.5)*(3.33333333333333*x - 1.0)*(5.0*x - 2.0)*(10.0*x - 5.0) - 0.285714285714286*x*(3.33333333333333 - 3.33333333333333*x)*(4.5 - 5.0*x)*(7.99999999999999 - 9.99999999999999*x)*(1.66666666666667*x - 0.166666666666667)*(2.0*x - 0.4)*(2.5*x - 0.75)*(3.33333333333333*x - 1.33333333333333)*(5.0*x - 2.5)*(10.0*x - 6.0) + 0.0624999999999998*x*(5.0 - 5.0*x)*(9.0 - 10.0*x)*(1.42857142857143*x - 0.142857142857143)*(1.66666666666667*x - 0.333333333333333)*(2.0*x - 0.6)*(2.5*x - 1.0)*(3.33333333333333*x - 1.66666666666667)*(5.0*x - 3.0)*(9.99999999999999*x - 6.99999999999999) + 0.322222222222222*x*(10.0 - 10.0*x)*(1.25*x - 0.125)*(1.42857142857143*x - 0.285714285714286)*(1.66666666666667*x - 0.5)*(2.0*x - 0.8)*(2.5*x - 1.25)*(3.33333333333333*x - 2.0)*(5.0*x - 3.5)*(10.0*x - 8.0) + 0.51*x*(1.11111111111111*x - 0.111111111111111)*(1.25*x - 0.25)*(1.42857142857143*x - 0.428571428571429)*(1.66666666666667*x - 0.666666666666667)*(2.0*x - 1.0)*(2.5*x - 1.5)*(3.33333333333333*x - 2.33333333333333)*(5.0*x - 4.0)*(10.0*x - 9.0) - 2.5*(1.0 - 10.0*x)*(1.0 - 5.0*x)*(1.0 - 3.33333333333333*x)*(1.0 - 2.5*x)*(1.0 - 2.0*x)*(1.0 - 1.66666666666667*x)*(1.0 - 1.42857142857143*x)*(1.0 - 1.25*x)*(1.0 - 1.11111111111111*x)*(1.0 - 1.0*x)"
      ]
     },
     "execution_count": 31,
     "metadata": {},
     "output_type": "execute_result"
    }
   ],
   "source": [
    "lagrange"
   ]
  },
  {
   "cell_type": "code",
   "execution_count": 32,
   "id": "e0c1ae8f",
   "metadata": {},
   "outputs": [
    {
     "data": {
      "text/latex": [
       "$\\displaystyle 3279.32098765417 x^{10} - 16823.7433862425 x^{9} + 37136.2433862428 x^{8} - 46113.591269841 x^{7} + 35322.1643518546 x^{6} - 17192.6215277798 x^{5} + 5268.12692901256 x^{4} - 966.267030423305 x^{3} + 92.7493452380997 x^{2} + 0.628214285714273 x - 2.5$"
      ],
      "text/plain": [
       "3279.32098765417*x**10 - 16823.7433862425*x**9 + 37136.2433862428*x**8 - 46113.591269841*x**7 + 35322.1643518546*x**6 - 17192.6215277798*x**5 + 5268.12692901256*x**4 - 966.267030423305*x**3 + 92.7493452380997*x**2 + 0.628214285714273*x - 2.5"
      ]
     },
     "execution_count": 32,
     "metadata": {},
     "output_type": "execute_result"
    }
   ],
   "source": [
    "simplify(lagrange)"
   ]
  },
  {
   "cell_type": "markdown",
   "id": "569163f6",
   "metadata": {},
   "source": [
    "## Newton Polynomial"
   ]
  },
  {
   "cell_type": "code",
   "execution_count": 33,
   "id": "46a08b45",
   "metadata": {},
   "outputs": [
    {
     "data": {
      "text/latex": [
       "$\\displaystyle 3279.32098765431 x \\left(x - 0.9\\right) \\left(x - 0.8\\right) \\left(x - 0.7\\right) \\left(x - 0.6\\right) \\left(x - 0.5\\right) \\left(x - 0.4\\right) \\left(x - 0.3\\right) \\left(x - 0.2\\right) \\left(x - 0.1\\right) - 2066.79894179893 x \\left(x - 0.8\\right) \\left(x - 0.7\\right) \\left(x - 0.6\\right) \\left(x - 0.5\\right) \\left(x - 0.4\\right) \\left(x - 0.3\\right) \\left(x - 0.2\\right) \\left(x - 0.1\\right) + 1165.6746031746 x \\left(x - 0.7\\right) \\left(x - 0.6\\right) \\left(x - 0.5\\right) \\left(x - 0.4\\right) \\left(x - 0.3\\right) \\left(x - 0.2\\right) \\left(x - 0.1\\right) - 575.396825396822 x \\left(x - 0.6\\right) \\left(x - 0.5\\right) \\left(x - 0.4\\right) \\left(x - 0.3\\right) \\left(x - 0.2\\right) \\left(x - 0.1\\right) + 236.11111111111 x \\left(x - 0.5\\right) \\left(x - 0.4\\right) \\left(x - 0.3\\right) \\left(x - 0.2\\right) \\left(x - 0.1\\right) - 74.9999999999996 x \\left(x - 0.4\\right) \\left(x - 0.3\\right) \\left(x - 0.2\\right) \\left(x - 0.1\\right) + 16.6666666666665 x \\left(x - 0.3\\right) \\left(x - 0.2\\right) \\left(x - 0.1\\right) - 1.66666666666662 x \\left(x - 0.2\\right) \\left(x - 0.1\\right) - 1.50000000000001 x \\left(x - 0.1\\right) + 4.1 x - 2.5$"
      ],
      "text/plain": [
       "3279.32098765431*x*(x - 0.9)*(x - 0.8)*(x - 0.7)*(x - 0.6)*(x - 0.5)*(x - 0.4)*(x - 0.3)*(x - 0.2)*(x - 0.1) - 2066.79894179893*x*(x - 0.8)*(x - 0.7)*(x - 0.6)*(x - 0.5)*(x - 0.4)*(x - 0.3)*(x - 0.2)*(x - 0.1) + 1165.6746031746*x*(x - 0.7)*(x - 0.6)*(x - 0.5)*(x - 0.4)*(x - 0.3)*(x - 0.2)*(x - 0.1) - 575.396825396822*x*(x - 0.6)*(x - 0.5)*(x - 0.4)*(x - 0.3)*(x - 0.2)*(x - 0.1) + 236.11111111111*x*(x - 0.5)*(x - 0.4)*(x - 0.3)*(x - 0.2)*(x - 0.1) - 74.9999999999996*x*(x - 0.4)*(x - 0.3)*(x - 0.2)*(x - 0.1) + 16.6666666666665*x*(x - 0.3)*(x - 0.2)*(x - 0.1) - 1.66666666666662*x*(x - 0.2)*(x - 0.1) - 1.50000000000001*x*(x - 0.1) + 4.1*x - 2.5"
      ]
     },
     "execution_count": 33,
     "metadata": {},
     "output_type": "execute_result"
    }
   ],
   "source": [
    "newton"
   ]
  },
  {
   "cell_type": "code",
   "execution_count": 34,
   "id": "403014bf",
   "metadata": {},
   "outputs": [
    {
     "data": {
      "text/latex": [
       "$\\displaystyle 3279.32098765431 x^{10} - 16823.7433862433 x^{9} + 37136.2433862432 x^{8} - 46113.5912698411 x^{7} + 35322.1643518517 x^{6} - 17192.6215277777 x^{5} + 5268.12692901232 x^{4} - 966.267030423276 x^{3} + 92.7493452380948 x^{2} + 0.628214285714305 x - 2.5$"
      ],
      "text/plain": [
       "3279.32098765431*x**10 - 16823.7433862433*x**9 + 37136.2433862432*x**8 - 46113.5912698411*x**7 + 35322.1643518517*x**6 - 17192.6215277777*x**5 + 5268.12692901232*x**4 - 966.267030423276*x**3 + 92.7493452380948*x**2 + 0.628214285714305*x - 2.5"
      ]
     },
     "execution_count": 34,
     "metadata": {},
     "output_type": "execute_result"
    }
   ],
   "source": [
    "simplify(newton)"
   ]
  },
  {
   "cell_type": "code",
   "execution_count": 35,
   "id": "c1657213",
   "metadata": {},
   "outputs": [
    {
     "data": {
      "image/png": "[encoded data removed]",
      "text/plain": [
       "<Figure size 576x432 with 1 Axes>"
      ]
     },
     "metadata": {
      "needs_background": "light"
     },
     "output_type": "display_data"
    }
   ],
   "source": [
    "# plt.style.use('seaborn-poster')\n",
    "X = np.linspace(-0.15, 1.1, 50, endpoint=True)\n",
    "L = lambdify(x_var, lagrange)\n",
    "L_y = L(X)\n",
    "N = lambdify(x_var, newton)\n",
    "N_y = N(X)\n",
    "\n",
    "fig = plt.figure(figsize=(8, 6))\n",
    "# lagrange function\n",
    "plt.plot(X, L_y, label='Lagrange / Newton')\n",
    "\n",
    "# print interpolation points\n",
    "plt.plot(x, y, 'ko', c='red')\n",
    "# axes\n",
    "plt.axvline(color=\"black\", linewidth=0.5)\n",
    "plt.axhline(color='black', linewidth=0.5)\n",
    "plt.grid()\n",
    "\n",
    "plt.title('Lagrange and Newton Polynomials')\n",
    "plt.legend()\n",
    "plt.show()"
   ]
  },
  {
   "cell_type": "markdown",
   "id": "49793f32",
   "metadata": {},
   "source": [
    "## Find point value "
   ]
  },
  {
   "cell_type": "code",
   "execution_count": 36,
   "id": "8cc9f9a4",
   "metadata": {},
   "outputs": [
    {
     "name": "stdout",
     "output_type": "stream",
     "text": [
      "Point!\n",
      "x = 0.47\n",
      "L(0.47) = -0.8273479202911991\n",
      "N(0.47) = -0.8273479202911971\n"
     ]
    },
    {
     "data": {
      "image/png": "[encoded data removed]",
      "text/plain": [
       "<Figure size 576x432 with 1 Axes>"
      ]
     },
     "metadata": {
      "needs_background": "light"
     },
     "output_type": "display_data"
    }
   ],
   "source": [
    "point_x = task.point\n",
    "print(f\"Point!\\nx = {point_x}\")\n",
    "\n",
    "point_y_lagr = L(point_x)\n",
    "point_y_newt = N(point_x)\n",
    "print(f'L({point_x}) = {point_y_lagr}')\n",
    "print(f'N({point_x}) = {point_y_newt}')\n",
    "\n",
    "X = np.linspace(-0.1, 1, 100, endpoint=True)\n",
    "L_y = L(X)\n",
    "\n",
    "fig = plt.figure(figsize=(8, 6))\n",
    "# lagrange function\n",
    "plt.plot(X, L_y, label='Lagrange / Newton')\n",
    "\n",
    "# print interpolation points\n",
    "plt.plot(point_x, point_y_lagr, 'ko', c='black')\n",
    "plt.plot(x, y, 'ko', c='red')\n",
    "# axes\n",
    "plt.axvline(color=\"black\", linewidth=0.5)\n",
    "plt.axhline(color='black', linewidth=0.5)\n",
    "\n",
    "plt.grid()\n",
    "\n",
    "plt.title('Lagrange and Newton Polynomials')\n",
    "plt.legend()\n",
    "plt.show()\n"
   ]
  },
  {
   "cell_type": "markdown",
   "id": "893c0ba7",
   "metadata": {},
   "source": [
    "## Best approximation"
   ]
  },
  {
   "cell_type": "code",
   "execution_count": 37,
   "id": "4ee7c1f7",
   "metadata": {},
   "outputs": [
    {
     "data": {
      "image/png": "[encoded data removed]",
      "text/plain": [
       "<Figure size 576x432 with 1 Axes>"
      ]
     },
     "metadata": {
      "needs_background": "light"
     },
     "output_type": "display_data"
    }
   ],
   "source": [
    "import numpy\n",
    "x = np.array(task.x)\n",
    "y = np.array(task.y)\n",
    "\n",
    "\n",
    "x_var = symbols('x')\n",
    "all_best = get_best_approx_poly(x, y)\n",
    "fig = plt.figure(figsize=(8, 6))\n",
    "for i, koef in enumerate(all_best):\n",
    "    if i == 3:\n",
    "        break\n",
    "    col = \"\"\n",
    "    if i == 0:\n",
    "        col = 'slateblue'\n",
    "    elif i == 1:\n",
    "        col = 'indigo'\n",
    "    elif i == 2:\n",
    "        col = 'darkviolet'\n",
    "    elif col == 3:\n",
    "        col = 'violet'\n",
    "    else:\n",
    "        col = 'magenta'\n",
    "        \n",
    "    \n",
    "    poly = numpy.polynomial.polynomial.Polynomial(koef)\n",
    "    L = np.linspace(-0.1, 1)\n",
    "    y = poly(L)\n",
    "    plt.plot(L, y, color = col)\n",
    "plt.grid()\n",
    "plt.plot(task.x, task.y, 'ko', c='red')\n",
    "plt.axvline(color=\"black\", linewidth=0.5)\n",
    "plt.axhline(color='black', linewidth=0.5)\n",
    "plt.title(\"Best approximation by least squares\")\n",
    "plt.show()"
   ]
  },
  {
   "cell_type": "code",
   "execution_count": 38,
   "id": "4ee36ce7",
   "metadata": {},
   "outputs": [
    {
     "data": {
      "text/latex": [
       "$x \\mapsto \\text{-2.331363636363636} + \\text{2.9790909090909086}\\,x$"
      ],
      "text/plain": [
       "Polynomial([-2.33136364,  2.97909091], domain=[-1,  1], window=[-1,  1])"
      ]
     },
     "execution_count": 38,
     "metadata": {},
     "output_type": "execute_result"
    }
   ],
   "source": [
    "numpy.polynomial.polynomial.Polynomial(all_best[0])"
   ]
  },
  {
   "cell_type": "code",
   "execution_count": 39,
   "id": "5e66847b",
   "metadata": {
    "scrolled": true
   },
   "outputs": [
    {
     "data": {
      "text/latex": [
       "$x \\mapsto \\text{-2.48293706293706} + \\text{3.9895804195804043}\\,x - \\text{1.0104895104894964}\\,x^{2}$"
      ],
      "text/plain": [
       "Polynomial([-2.48293706,  3.98958042, -1.01048951], domain=[-1,  1], window=[-1,  1])"
      ]
     },
     "execution_count": 39,
     "metadata": {},
     "output_type": "execute_result"
    }
   ],
   "source": [
    "numpy.polynomial.polynomial.Polynomial(all_best[1])"
   ]
  },
  {
   "cell_type": "code",
   "execution_count": 49,
   "id": "c78d2dcc",
   "metadata": {},
   "outputs": [
    {
     "data": {
      "text/latex": [
       "$x \\mapsto \\text{-2.49881118881118} + \\text{4.241802641802528}\\,x - \\text{1.6719114219111515}\\,x^{2} + \\text{0.4409479409477706}\\,x^{3}$"
      ],
      "text/plain": [
       "Polynomial([-2.49881119,  4.24180264, -1.67191142,  0.44094794], domain=[-1,  1], window=[-1,  1])"
      ]
     },
     "execution_count": 49,
     "metadata": {},
     "output_type": "execute_result"
    }
   ],
   "source": [
    "numpy.polynomial.polynomial.Polynomial(all_best[2])\n"
   ]
  },
  {
   "cell_type": "code",
   "execution_count": 54,
   "id": "bbaa664b",
   "metadata": {},
   "outputs": [],
   "source": [
    "x = 0.47\n"
   ]
  },
  {
   "cell_type": "code",
   "execution_count": 60,
   "id": "bdf557b5",
   "metadata": {},
   "outputs": [
    {
     "data": {
      "text/plain": [
       "-0.8287086421911446"
      ]
     },
     "execution_count": 60,
     "metadata": {},
     "output_type": "execute_result"
    }
   ],
   "source": [
    "-2.49881118881118+4.241802641802528*x - 1.6719114219111515*x**2 +0.4409479409477706*x**3"
   ]
  },
  {
   "cell_type": "code",
   "execution_count": 61,
   "id": "041e391b",
   "metadata": {},
   "outputs": [
    {
     "data": {
      "text/latex": [
       "$x \\mapsto \\text{-2.4998601398601306} + \\text{4.27822455322443}\\,x - \\text{1.854020979020643}\\,x^{2} + \\text{0.7323232323229409}\\,x^{3} - \\text{0.1456876456875797}\\,x^{4}$"
      ],
      "text/plain": [
       "Polynomial([-2.49986014,  4.27822455, -1.85402098,  0.73232323, -0.14568765], domain=[-1,  1], window=[-1,  1])"
      ]
     },
     "execution_count": 61,
     "metadata": {},
     "output_type": "execute_result"
    }
   ],
   "source": [
    "numpy.polynomial.polynomial.Polynomial(all_best[3])\n"
   ]
  },
  {
   "cell_type": "code",
   "execution_count": 62,
   "id": "50a44d41",
   "metadata": {},
   "outputs": [
    {
     "data": {
      "text/plain": [
       "-0.8297249315268083"
      ]
     },
     "execution_count": 62,
     "metadata": {},
     "output_type": "execute_result"
    }
   ],
   "source": [
    "-2.4998601398601306+4.27822455322443*x-1.854020979020643*x**2+0.7323232323229409*x**3-0.1456876456875797*x**4"
   ]
  },
  {
   "cell_type": "code",
   "execution_count": 63,
   "id": "c9774b53",
   "metadata": {},
   "outputs": [
    {
     "data": {
      "text/latex": [
       "$x \\mapsto \\text{-2.499667832167862} + \\text{4.263149766902962}\\,x - \\text{1.7298222610999094}\\,x^{2} + \\text{0.38243007000968793}\\,x^{3} + \\text{0.2549533798611141}\\,x^{4} - \\text{0.16025641021923512}\\,x^{5}$"
      ],
      "text/plain": [
       "Polynomial([-2.49966783,  4.26314977, -1.72982226,  0.38243007,  0.25495338,\n",
       "       -0.16025641], domain=[-1,  1], window=[-1,  1])"
      ]
     },
     "execution_count": 63,
     "metadata": {},
     "output_type": "execute_result"
    }
   ],
   "source": [
    "numpy.polynomial.polynomial.Polynomial(all_best[4])"
   ]
  },
  {
   "cell_type": "code",
   "execution_count": 64,
   "id": "f1d9d8d4",
   "metadata": {},
   "outputs": [
    {
     "data": {
      "text/plain": [
       "-0.8296346311582358"
      ]
     },
     "execution_count": 64,
     "metadata": {},
     "output_type": "execute_result"
    }
   ],
   "source": [
    "-2.499667832167862+4.263149766902962*x-1.7298222610999094*x**2+0.38243007000968793*x**3+0.2549533798611141*x**4-0.16025641021923512*x**5"
   ]
  },
  {
   "cell_type": "code",
   "execution_count": null,
   "id": "52c24a36",
   "metadata": {},
   "outputs": [],
   "source": []
  }
 ],
 "metadata": {
  "kernelspec": {
   "display_name": "Python 3 (ipykernel)",
   "language": "python",
   "name": "python3"
  },
  "language_info": {
   "codemirror_mode": {
    "name": "ipython",
    "version": 3
   },
   "file_extension": ".py",
   "mimetype": "text/x-python",
   "name": "python",
   "nbconvert_exporter": "python",
   "pygments_lexer": "ipython3",
   "version": "3.8.10"
  }
 },
 "nbformat": 4,
 "nbformat_minor": 5
}
