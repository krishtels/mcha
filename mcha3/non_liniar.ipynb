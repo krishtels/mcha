{
 "cells": [
  {
   "cell_type": "code",
   "execution_count": 17,
   "id": "fba3d9c8",
   "metadata": {},
   "outputs": [],
   "source": [
    "import numpy as np\n",
    "import scipy\n",
    "from sympy import *"
   ]
  },
  {
   "cell_type": "code",
   "execution_count": 1,
   "id": "3b1b01a1",
   "metadata": {},
   "outputs": [],
   "source": [
    "%matplotlib inline\n",
    "import matplotlib.pyplot as plt\n",
    "plt.style.use('seaborn-whitegrid')\n",
    "plt.rcParams[\"figure.figsize\"] = (8,6)"
   ]
  },
  {
   "cell_type": "markdown",
   "id": "264fb09e",
   "metadata": {},
   "source": [
    "### Полный проход списка, состоящего из вложенных список"
   ]
  },
  {
   "cell_type": "code",
   "execution_count": 2,
   "id": "25bb46ed",
   "metadata": {},
   "outputs": [],
   "source": [
    "def traverse_list(ls, a):\n",
    "    if type(ls) == tuple:\n",
    "        if ls[0] != 0 or ls[1] != 0:\n",
    "            a.append(ls)\n",
    "        return\n",
    "    for i in range(len(ls)):\n",
    "        traverse_list(ls[i], a)"
   ]
  },
  {
   "cell_type": "code",
   "execution_count": 3,
   "id": "788d1cbe",
   "metadata": {},
   "outputs": [],
   "source": [
    "def get_clean_intervals(ls, a):\n",
    "    traverse_list(ls, a)\n",
    "    return a"
   ]
  },
  {
   "cell_type": "markdown",
   "id": "60651981",
   "metadata": {},
   "source": [
    "### Составление ряда Штурмана"
   ]
  },
  {
   "cell_type": "code",
   "execution_count": 4,
   "id": "bfc10016",
   "metadata": {},
   "outputs": [],
   "source": [
    "def get_sturm_row(equation):\n",
    "    x, y = symbols('x y')\n",
    "    sturm_row = list()\n",
    "    y = equation\n",
    "    sturm_row.append(y)\n",
    "\n",
    "    y_2 = diff(y)\n",
    "    sturm_row.append(y_2)\n",
    "\n",
    "    r = y_2\n",
    "    while degree(r) > 0:\n",
    "        r = div(y, y_2)[1] * (-1)  # get remain\n",
    "        sturm_row.append(r)\n",
    "        y = y_2\n",
    "        y_2 = r\n",
    "    return sturm_row"
   ]
  },
  {
   "cell_type": "markdown",
   "id": "1f4f11a3",
   "metadata": {},
   "source": [
    "### Находим на большом интервале интервалы с всего одним коренем"
   ]
  },
  {
   "cell_type": "code",
   "execution_count": 5,
   "id": "100a01f0",
   "metadata": {},
   "outputs": [],
   "source": [
    "def get_1root_intervals(sturm_row, interval: tuple):\n",
    "    root_intervals = list()\n",
    "    digit_change_times = dict()\n",
    "    for i in range(interval[0], interval[1] + 1):\n",
    "        func_values = list()\n",
    "        digit_changes_count = 0\n",
    "        for num, func in enumerate(sturm_row):\n",
    "            func_values.append(func.subs('x', i))\n",
    "            if num == 0:\n",
    "                continue\n",
    "            if func_values[num] * func_values[num - 1] < 0:\n",
    "                digit_changes_count += 1\n",
    "\n",
    "        digit_change_times[i] = digit_changes_count\n",
    "\n",
    "    for i in range(interval[0] + 1, interval[1] + 1):\n",
    "\n",
    "        if digit_change_times[i - 1] - digit_change_times[i] > 1:\n",
    "            result_intervals = get_1root_small_interval(sturm_row, (i - 1, i))\n",
    "            clean_upped_intervals = []\n",
    "            clean_upped_intervals = get_clean_intervals(result_intervals, clean_upped_intervals)\n",
    "\n",
    "            for inter in clean_upped_intervals:\n",
    "                root_intervals.append(list(inter))\n",
    "\n",
    "        elif digit_change_times[i - 1] != digit_change_times[i]:\n",
    "            root_intervals.append([i - 1, i])\n",
    "\n",
    "    for i in range(1, len(root_intervals)):\n",
    "        if root_intervals[i][0] == root_intervals[i - 1][1]:\n",
    "            root_intervals[i][0] = root_intervals[i][0] + 0.00001\n",
    "\n",
    "    return root_intervals\n"
   ]
  },
  {
   "cell_type": "markdown",
   "id": "1d647850",
   "metadata": {},
   "source": [
    "### Разбиваем маленькие интервалы с несколькими корнями на интервалы с 1 корнем"
   ]
  },
  {
   "cell_type": "code",
   "execution_count": 6,
   "id": "a1c984d9",
   "metadata": {},
   "outputs": [],
   "source": [
    "def get_1root_small_interval(sturm_row, interval: tuple):\n",
    "    result_intervals = []\n",
    "    digit_changes = [0, 0]\n",
    "\n",
    "    for inter_num, inter in enumerate(interval):\n",
    "        func_values = list()\n",
    "        prev_val = 0\n",
    "        current_val = 0\n",
    "        for i, func in enumerate(sturm_row):\n",
    "            func_values.append(func.subs('x', inter))\n",
    "\n",
    "            if i == 0:\n",
    "                prev_val = func_values[i]\n",
    "                continue\n",
    "            current_val = func_values[i]\n",
    "\n",
    "            if prev_val == 0:\n",
    "                prev_val = current_val\n",
    "                continue\n",
    "            if current_val == 0:\n",
    "                continue\n",
    "\n",
    "            if prev_val * current_val < 0:\n",
    "                digit_changes[inter_num] += 1\n",
    "            prev_val = current_val\n",
    "\n",
    "    if digit_changes[0] == digit_changes[1]:\n",
    "        return 0, 0\n",
    "\n",
    "    if abs(digit_changes[1] - digit_changes[0]) == 1:\n",
    "        return interval[0], interval[1]\n",
    "    else:\n",
    "        middle = float(interval[1] - interval[0]) / 2\n",
    "        result_intervals.append(get_1root_small_interval(sturm_row, (interval[0], interval[0] + middle)))\n",
    "        result_intervals.append(get_1root_small_interval(sturm_row, (interval[0] + middle, interval[1])))\n",
    "\n",
    "    return result_intervals"
   ]
  },
  {
   "cell_type": "markdown",
   "id": "cb68fd9f",
   "metadata": {},
   "source": [
    "### Метод биссекции "
   ]
  },
  {
   "cell_type": "code",
   "execution_count": 7,
   "id": "a82250a0",
   "metadata": {},
   "outputs": [],
   "source": [
    "def bisection(function, interval: tuple, tol=0.0001):\n",
    "    x, y = symbols('x y')\n",
    "    a, b = interval[0], interval[1]\n",
    "    mid = (a + b) / 2\n",
    "\n",
    "    f = lambdify(x, function, \"numpy\")\n",
    "\n",
    "    if f(a) * f(b) > 0:\n",
    "        raise Exception(f\"Bisection method couldn't solve f(x) = 0, because f(a) * f(b) = {f(a) * f(b)} >= 0\\n\"\n",
    "                        f\"--> more than 1 root on ({(a, b)}) or no roots)\")\n",
    "    x_delta = tol * 2\n",
    "    iteration = 1\n",
    "    while f(mid) > tol or x_delta > tol:\n",
    "        if f(a) == 0:\n",
    "            return a, iteration\n",
    "        elif f(b) == 0:\n",
    "            return b, iteration\n",
    "        elif f(mid) == 0:\n",
    "            return mid, iteration\n",
    "\n",
    "        if f(a) * f(mid) < 0:\n",
    "            b = mid\n",
    "        elif f(b) * f(mid) < 0:\n",
    "            a = mid\n",
    "\n",
    "        x_delta = mid\n",
    "        mid = (a + b) / 2\n",
    "\n",
    "        x_delta = abs(x_delta - mid)\n",
    "        iteration += 1\n",
    "\n",
    "    return mid, iteration"
   ]
  },
  {
   "cell_type": "markdown",
   "id": "8f61ae1a",
   "metadata": {},
   "source": [
    "### Метод хорд"
   ]
  },
  {
   "cell_type": "code",
   "execution_count": 8,
   "id": "297aee8c",
   "metadata": {},
   "outputs": [],
   "source": [
    "def secant(function, interval: tuple, tol=0.0001):\n",
    "    x, y = symbols('x y')\n",
    "    a, b = interval[0], interval[1]\n",
    "    f = lambdify(x, function, \"numpy\")\n",
    "    if f(a) * f(b) > 0:\n",
    "        raise Exception(f\"Secant method couldn't solve f(x) = 0, because f(a) * f(b) = {f(a) * f(b)} >= 0\\n\"\n",
    "                        f\"--> more than 1 root on ({(a, b)}) or no roots)\")\n",
    "\n",
    "    x_sec = a - (f(a) * (b - a)) / (f(b) - f(a))\n",
    "\n",
    "    x_delta = 0\n",
    "    iteration = 1\n",
    "    while abs(f(x_sec)) > tol or x_delta > tol:\n",
    "        if f(a) == 0:\n",
    "            return a, iteration\n",
    "        elif f(b) == 0:\n",
    "            return b, iteration\n",
    "        elif f(x_sec) == 0:\n",
    "            return x_sec, iteration\n",
    "\n",
    "        if f(x_sec) * f(a) < 0:\n",
    "            b = x_sec\n",
    "        elif f(x_sec) * f(b) < 0:\n",
    "            a = x_sec\n",
    "\n",
    "        x_delta = x_sec\n",
    "        x_sec = a - (f(a) * (b - a)) / (f(b) - f(a))\n",
    "\n",
    "        x_delta = abs(x_delta - x_sec)\n",
    "        iteration += 1\n",
    "\n",
    "    return x_sec, iteration\n"
   ]
  },
  {
   "cell_type": "markdown",
   "id": "59125ad5",
   "metadata": {},
   "source": [
    "### Метод Ньютона (касательных)\n"
   ]
  },
  {
   "cell_type": "code",
   "execution_count": 10,
   "id": "037539d0",
   "metadata": {},
   "outputs": [],
   "source": [
    "def newton(function, interval, tol=0.0001):\n",
    "    x, y = symbols('x y')\n",
    "    a, b = interval[0], interval[1]\n",
    "    f = lambdify(x, function, 'numpy')\n",
    "\n",
    "    if f(a) * f(b) > 0:\n",
    "        raise Exception(f\"Newton method couldn't solve f(x) = 0, because f(a) * f(b) = {f(a) * f(b)} >= 0\\n\"\n",
    "                        f\"--> more than 1 root on ({(a, b)}) or no roots)\")\n",
    "\n",
    "    x_start = (a + b) / 2\n",
    "    y_diff = function.diff()\n",
    "    f_diff = lambdify(x, y_diff, 'numpy')\n",
    "\n",
    "    x_newton = x_start - f(x_start) / f_diff(x_start)\n",
    "\n",
    "    x_delta = tol * 2\n",
    "    iteration = 1\n",
    "    while abs(f(x_newton)) > tol or x_delta > tol:\n",
    "        if f(x_newton) == 0:\n",
    "            return x_newton, iteration\n",
    "\n",
    "        x_delta = x_newton\n",
    "        x_newton = x_newton - f(x_newton) / f_diff(x_newton)\n",
    "        x_delta = abs(x_delta - x_newton)\n",
    "        iteration += 1\n",
    "\n",
    "    return x_newton, iteration\n"
   ]
  },
  {
   "cell_type": "code",
   "execution_count": null,
   "id": "4ac314ae",
   "metadata": {},
   "outputs": [],
   "source": []
  },
  {
   "cell_type": "code",
   "execution_count": 11,
   "id": "c61d69bf",
   "metadata": {},
   "outputs": [],
   "source": [
    "def separator():\n",
    "    for i in range(2):\n",
    "        print('-' * 50)"
   ]
  },
  {
   "cell_type": "code",
   "execution_count": 18,
   "id": "81d163a2",
   "metadata": {},
   "outputs": [],
   "source": [
    "x = symbols('x')"
   ]
  },
  {
   "cell_type": "markdown",
   "id": "45e10cd8",
   "metadata": {},
   "source": [
    "### Тестовый пример 1"
   ]
  },
  {
   "cell_type": "code",
   "execution_count": 19,
   "id": "6e65770d",
   "metadata": {},
   "outputs": [
    {
     "name": "stdout",
     "output_type": "stream",
     "text": [
      "Количиство корней на интервале (-10, 10): 2\n",
      "Интервалы в которыx находится ровно один корень: [[-1, 0], [1, 2]]\n",
      "\n",
      "\t\tРассматриваемый интервал: [-1, 0]\n",
      "\n",
      "*** Метод Биссекции (Половинного деления) ***\n",
      "Корень: -0.29998779296875\n",
      "Количество Итераций: 14\n",
      "\n",
      "--------------------------------------------------\n",
      "--------------------------------------------------\n",
      "*** Метод Секущих (Хорд) ***\n",
      "Корень: -0.2999606066662447\n",
      "Количество Итераций: 8\n",
      "--------------------------------------------------\n",
      "--------------------------------------------------\n",
      "*** Метод Ньютона (Касательных) ***\n",
      "Корень: -0.30000000000000204\n",
      "Количество Итераций: 4\n",
      "\n",
      "\t\tРассматриваемый интервал: [1, 2]\n",
      "\n",
      "*** Метод Биссекции (Половинного деления) ***\n",
      "Корень: 1.20001220703125\n",
      "Количество Итераций: 14\n",
      "\n",
      "--------------------------------------------------\n",
      "--------------------------------------------------\n",
      "*** Метод Секущих (Хорд) ***\n",
      "Корень: 1.1999505620110387\n",
      "Количество Итераций: 8\n",
      "--------------------------------------------------\n",
      "--------------------------------------------------\n",
      "*** Метод Ньютона (Касательных) ***\n",
      "Корень: 1.2000000000005318\n",
      "Количество Итераций: 4\n"
     ]
    },
    {
     "data": {
      "text/latex": [
       "$\\displaystyle x^{2} - 0.9 x - 0.36$"
      ],
      "text/plain": [
       "x**2 - 0.9*x - 0.36"
      ]
     },
     "execution_count": 19,
     "metadata": {},
     "output_type": "execute_result"
    },
    {
     "data": {
      "image/png": "[encoded data removed]",
      "text/plain": [
       "<Figure size 576x432 with 1 Axes>"
      ]
     },
     "metadata": {},
     "output_type": "display_data"
    }
   ],
   "source": [
    "y = x**2 - 0.9*x - 0.36\n",
    "interval = (-10, 10)\n",
    "\n",
    "x_1 = np.arange(-5, 5, 0.1)\n",
    "y_1 = x_1**2 - 0.9*x_1 - 0.36\n",
    "fig, ax = plt.subplots()\n",
    "ax.plot(x_1, y_1)\n",
    "ax.axhline(y=0, color='k');\n",
    "plt.title(\"x^2 - 0.9x - 0.36\");\n",
    "\n",
    "intervals = get_1root_intervals(get_sturm_row(y), interval)\n",
    "print(f'Количиство корней на интервале (-10, 10): {len(intervals)}')\n",
    "print(f'Интервалы в которыx находится ровно один корень: {[i for i in intervals]}')\n",
    "for interval in intervals:\n",
    "    print(f\"\\n\\t\\tРассматриваемый интервал: {interval}\\n\")\n",
    "    bisection_ans = bisection(y, interval)\n",
    "    secant_ans = secant(y, interval)\n",
    "    newton_ans = newton(y, interval)\n",
    "    print(f\"*** Метод Биссекции (Половинного деления) ***\\n\"\n",
    "          f\"Корень: {bisection_ans[0]}\\n\"\n",
    "          f\"Количество Итераций: {bisection_ans[1]}\\n\")\n",
    "    separator()\n",
    "    print(f\"*** Метод Секущих (Хорд) ***\\n\"\n",
    "          f\"Корень: {secant_ans[0]}\\n\"\n",
    "          f\"Количество Итераций: {secant_ans[1]}\")\n",
    "    separator()\n",
    "    print(f\"*** Метод Ньютона (Касательных) ***\\n\"\n",
    "          f\"Корень: {newton_ans[0]}\\n\"\n",
    "          f\"Количество Итераций: {newton_ans[1]}\")\n",
    "y"
   ]
  },
  {
   "cell_type": "markdown",
   "id": "d1fb390c",
   "metadata": {},
   "source": [
    "### Тестовый пример 2"
   ]
  },
  {
   "cell_type": "code",
   "execution_count": 20,
   "id": "91f831c6",
   "metadata": {},
   "outputs": [
    {
     "name": "stdout",
     "output_type": "stream",
     "text": [
      "Количиство корней на интервале (-10, 10): 1\n",
      "Интервалы в которыx находится ровно один корень: [[-3, -2]]\n",
      "\n",
      "\t\tРассматриваемый интервал: [-3, -2]\n",
      "\n",
      "*** Метод Биссекции (Половинного деления) ***\n",
      "Корень: -2\n",
      "Количество Итераций: 1\n",
      "\n",
      "--------------------------------------------------\n",
      "--------------------------------------------------\n",
      "*** Метод Секущих (Хорд) ***\n",
      "Корень: -2.0\n",
      "Количество Итераций: 1\n",
      "--------------------------------------------------\n",
      "--------------------------------------------------\n",
      "*** Метод Ньютона (Касательных) ***\n",
      "Корень: -2.00006103515625\n",
      "Количество Итераций: 13\n"
     ]
    },
    {
     "data": {
      "text/latex": [
       "$\\displaystyle \\left(2 x + 4\\right)^{2}$"
      ],
      "text/plain": [
       "(2*x + 4)**2"
      ]
     },
     "execution_count": 20,
     "metadata": {},
     "output_type": "execute_result"
    },
    {
     "data": {
      "image/png": "[encoded data removed]",
      "text/plain": [
       "<Figure size 576x432 with 1 Axes>"
      ]
     },
     "metadata": {},
     "output_type": "display_data"
    }
   ],
   "source": [
    "y = (2*x + 4)**2\n",
    "interval = (-10, 10)\n",
    "\n",
    "x_2 = np.arange(-8, 4, 0.1)\n",
    "y_2 = (2*x_2 + 4)**2\n",
    "fig, ax = plt.subplots()\n",
    "ax.plot(x_2, y_2)\n",
    "ax.axhline(y=0, color='k');\n",
    "plt.title(\"(2x + 4)^2\");\n",
    "\n",
    "intervals = get_1root_intervals(get_sturm_row(y), interval)\n",
    "print(f'Количиство корней на интервале (-10, 10): {len(intervals)}')\n",
    "print(f'Интервалы в которыx находится ровно один корень: {[i for i in intervals]}')\n",
    "for interval in intervals:\n",
    "    print(f\"\\n\\t\\tРассматриваемый интервал: {interval}\\n\")\n",
    "    bisection_ans = bisection(y, interval)\n",
    "    secant_ans = secant(y, interval)\n",
    "    newton_ans = newton(y, interval)\n",
    "    print(f\"*** Метод Биссекции (Половинного деления) ***\\n\"\n",
    "          f\"Корень: {bisection_ans[0]}\\n\"\n",
    "          f\"Количество Итераций: {bisection_ans[1]}\\n\")\n",
    "    separator()\n",
    "    print(f\"*** Метод Секущих (Хорд) ***\\n\"\n",
    "          f\"Корень: {secant_ans[0]}\\n\"\n",
    "          f\"Количество Итераций: {secant_ans[1]}\")\n",
    "    separator()\n",
    "    print(f\"*** Метод Ньютона (Касательных) ***\\n\"\n",
    "          f\"Корень: {newton_ans[0]}\\n\"\n",
    "          f\"Количество Итераций: {newton_ans[1]}\")\n",
    "\n",
    "y"
   ]
  },
  {
   "cell_type": "markdown",
   "id": "0dde7f98",
   "metadata": {},
   "source": [
    "### Тестовый пример 3"
   ]
  },
  {
   "cell_type": "code",
   "execution_count": 21,
   "id": "59040056",
   "metadata": {},
   "outputs": [
    {
     "name": "stdout",
     "output_type": "stream",
     "text": [
      "Количиство корней на интервале (-10, 10): 4\n",
      "Интервалы в которыx находится ровно один корень: [[-3, -2], [-1, 0], [1, 2], [3, 4]]\n",
      "\n",
      "\t\tРассматриваемый интервал: [-3, -2]\n",
      "\n",
      "*** Метод Биссекции (Половинного деления) ***\n",
      "Корень: -2.35003662109375\n",
      "Количество Итераций: 14\n",
      "\n",
      "--------------------------------------------------\n",
      "--------------------------------------------------\n",
      "*** Метод Секущих (Хорд) ***\n",
      "Корень: -2.350082809843179\n",
      "Количество Итераций: 14\n",
      "--------------------------------------------------\n",
      "--------------------------------------------------\n",
      "*** Метод Ньютона (Касательных) ***\n",
      "Корень: -2.3500847963187756\n",
      "Количество Итераций: 4\n",
      "\n",
      "\t\tРассматриваемый интервал: [-1, 0]\n",
      "\n",
      "*** Метод Биссекции (Половинного деления) ***\n",
      "Корень: -0.11407470703125\n",
      "Количество Итераций: 14\n",
      "\n",
      "--------------------------------------------------\n",
      "--------------------------------------------------\n",
      "*** Метод Секущих (Хорд) ***\n",
      "Корень: -0.11401153728200486\n",
      "Количество Итераций: 7\n",
      "--------------------------------------------------\n",
      "--------------------------------------------------\n",
      "*** Метод Ньютона (Касательных) ***\n",
      "Корень: -0.11401681881954807\n",
      "Количество Итераций: 4\n",
      "\n",
      "\t\tРассматриваемый интервал: [1, 2]\n",
      "\n",
      "*** Метод Биссекции (Половинного деления) ***\n",
      "Корень: 1.11407470703125\n",
      "Количество Итераций: 14\n",
      "\n",
      "--------------------------------------------------\n",
      "--------------------------------------------------\n",
      "*** Метод Секущих (Хорд) ***\n",
      "Корень: 1.114011537282005\n",
      "Количество Итераций: 7\n",
      "--------------------------------------------------\n",
      "--------------------------------------------------\n",
      "*** Метод Ньютона (Касательных) ***\n",
      "Корень: 1.114016818819548\n",
      "Количество Итераций: 4\n",
      "\n",
      "\t\tРассматриваемый интервал: [3, 4]\n",
      "\n",
      "*** Метод Биссекции (Половинного деления) ***\n",
      "Корень: 3.35003662109375\n",
      "Количество Итераций: 14\n",
      "\n",
      "--------------------------------------------------\n",
      "--------------------------------------------------\n",
      "*** Метод Секущих (Хорд) ***\n",
      "Корень: 3.3500828098431787\n",
      "Количество Итераций: 14\n",
      "--------------------------------------------------\n",
      "--------------------------------------------------\n",
      "*** Метод Ньютона (Касательных) ***\n",
      "Корень: 3.3500847963187756\n",
      "Количество Итераций: 4\n"
     ]
    },
    {
     "data": {
      "text/latex": [
       "$\\displaystyle x^{4} - 2 x^{3} - 7 x^{2} + 8 x + 1$"
      ],
      "text/plain": [
       "x**4 - 2*x**3 - 7*x**2 + 8*x + 1"
      ]
     },
     "execution_count": 21,
     "metadata": {},
     "output_type": "execute_result"
    },
    {
     "data": {
      "image/png": "[encoded data removed]",
      "text/plain": [
       "<Figure size 576x432 with 1 Axes>"
      ]
     },
     "metadata": {},
     "output_type": "display_data"
    }
   ],
   "source": [
    "y = x**4 - 2*x**3 - 7*x**2 + 8*x + 1\n",
    "interval = (-10, 10)\n",
    "\n",
    "x_3 = np.arange(-3, 4, 0.1)\n",
    "y_3 = x_3**4 - 2*x_3**3 - 7*x_3**2 + 8*x_3 + 1\n",
    "fig, ax = plt.subplots()\n",
    "ax.plot(x_3, y_3)\n",
    "ax.axhline(y=0, color='k');\n",
    "plt.title(\"x^4 - 2x^3 - 7x^2 + 8x + 1\");\n",
    "\n",
    "intervals = get_1root_intervals(get_sturm_row(y), interval)\n",
    "print(f'Количиство корней на интервале (-10, 10): {len(intervals)}')\n",
    "print(f'Интервалы в которыx находится ровно один корень: {[i for i in intervals]}')\n",
    "for interval in intervals:\n",
    "    print(f\"\\n\\t\\tРассматриваемый интервал: {interval}\\n\")\n",
    "    bisection_ans = bisection(y, interval)\n",
    "    secant_ans = secant(y, interval)\n",
    "    newton_ans = newton(y, interval)\n",
    "    print(f\"*** Метод Биссекции (Половинного деления) ***\\n\"\n",
    "          f\"Корень: {bisection_ans[0]}\\n\"\n",
    "          f\"Количество Итераций: {bisection_ans[1]}\\n\")\n",
    "    separator()\n",
    "    print(f\"*** Метод Секущих (Хорд) ***\\n\"\n",
    "          f\"Корень: {secant_ans[0]}\\n\"\n",
    "          f\"Количество Итераций: {secant_ans[1]}\")\n",
    "    separator()\n",
    "    print(f\"*** Метод Ньютона (Касательных) ***\\n\"\n",
    "          f\"Корень: {newton_ans[0]}\\n\"\n",
    "          f\"Количество Итераций: {newton_ans[1]}\")\n",
    "y"
   ]
  },
  {
   "cell_type": "markdown",
   "id": "39f9059e",
   "metadata": {},
   "source": [
    "### Тестовый пример 4"
   ]
  },
  {
   "cell_type": "code",
   "execution_count": 24,
   "id": "dbe0a590",
   "metadata": {},
   "outputs": [
    {
     "name": "stdout",
     "output_type": "stream",
     "text": [
      "Количиство корней на интервале (-10, 10): 5\n",
      "Интервалы в которыx находится ровно один корень: [[-10, -9], [-8, -7], [2, 3], [3.00001, 4], [7, 8]]\n",
      "\n",
      "\t\tРассматриваемый интервал: [-10, -9]\n",
      "\n",
      "*** Метод Биссекции (Половинного деления) ***\n",
      "Корень: -9.20001220703125\n",
      "Количество Итераций: 14\n",
      "\n",
      "--------------------------------------------------\n",
      "--------------------------------------------------\n",
      "*** Метод Секущих (Хорд) ***\n",
      "Корень: -9.19999999013451\n",
      "Количество Итераций: 18\n",
      "--------------------------------------------------\n",
      "--------------------------------------------------\n",
      "*** Метод Ньютона (Касательных) ***\n",
      "Корень: -9.200000005308917\n",
      "Количество Итераций: 4\n",
      "\n",
      "\t\tРассматриваемый интервал: [-8, -7]\n",
      "\n",
      "*** Метод Биссекции (Половинного деления) ***\n",
      "Корень: -7.199981689453125\n",
      "Количество Итераций: 15\n",
      "\n",
      "--------------------------------------------------\n",
      "--------------------------------------------------\n",
      "*** Метод Секущих (Хорд) ***\n",
      "Корень: -7.200000000542465\n",
      "Количество Итераций: 6\n",
      "--------------------------------------------------\n",
      "--------------------------------------------------\n",
      "*** Метод Ньютона (Касательных) ***\n",
      "Корень: -7.199999992932308\n",
      "Количество Итераций: 4\n",
      "\n",
      "\t\tРассматриваемый интервал: [2, 3]\n",
      "\n",
      "*** Метод Биссекции (Половинного деления) ***\n",
      "Корень: 2.569976806640625\n",
      "Количество Итераций: 15\n",
      "\n",
      "--------------------------------------------------\n",
      "--------------------------------------------------\n",
      "*** Метод Секущих (Хорд) ***\n",
      "Корень: 2.570000197805116\n",
      "Количество Итераций: 19\n",
      "--------------------------------------------------\n",
      "--------------------------------------------------\n",
      "*** Метод Ньютона (Касательных) ***\n",
      "Корень: 2.5700000007375503\n",
      "Количество Итераций: 3\n",
      "\n",
      "\t\tРассматриваемый интервал: [3.00001, 4]\n",
      "\n",
      "*** Метод Биссекции (Половинного деления) ***\n",
      "Корень: 3.2800059793090814\n",
      "Количество Итераций: 15\n",
      "\n",
      "--------------------------------------------------\n",
      "--------------------------------------------------\n",
      "*** Метод Секущих (Хорд) ***\n",
      "Корень: 3.279999798430608\n",
      "Количество Итераций: 20\n",
      "--------------------------------------------------\n",
      "--------------------------------------------------\n",
      "*** Метод Ньютона (Касательных) ***\n",
      "Корень: 3.2799999923029985\n",
      "Количество Итераций: 4\n",
      "\n",
      "\t\tРассматриваемый интервал: [7, 8]\n",
      "\n",
      "*** Метод Биссекции (Половинного деления) ***\n",
      "Корень: 7.88995361328125\n",
      "Количество Итераций: 14\n",
      "\n",
      "--------------------------------------------------\n",
      "--------------------------------------------------\n",
      "*** Метод Секущих (Хорд) ***\n",
      "Корень: 7.890000000061255\n",
      "Количество Итераций: 7\n",
      "--------------------------------------------------\n",
      "--------------------------------------------------\n",
      "*** Метод Ньютона (Касательных) ***\n",
      "Корень: 7.8900000024698365\n",
      "Количество Итераций: 4\n"
     ]
    },
    {
     "data": {
      "text/latex": [
       "$\\displaystyle x^{5} + 2.66 x^{4} - 104.5099 x^{3} - 81.435104 x^{2} + 2525.02674 x - 4405.59219$"
      ],
      "text/plain": [
       "x**5 + 2.66*x**4 - 104.5099*x**3 - 81.435104*x**2 + 2525.02674*x - 4405.59219"
      ]
     },
     "execution_count": 24,
     "metadata": {},
     "output_type": "execute_result"
    },
    {
     "data": {
      "image/png": "[encoded data removed]",
      "text/plain": [
       "<Figure size 576x432 with 1 Axes>"
      ]
     },
     "metadata": {},
     "output_type": "display_data"
    }
   ],
   "source": [
    "y = x**5 + 2.66*x**4 - 104.5099*x**3 - 81.435104*x**2 + 2525.02674*x - 4405.59219\n",
    "\n",
    "interval = (-10, 10)\n",
    "\n",
    "x_4 = np.arange(-10, 10, 0.1)\n",
    "y_4 = x_4**5 + 2.66*x_4**4 - 104.5099*x_4**3 - 81.435104*x_4**2 + 2525.02674*x_4 - 4405.59219\n",
    "fig, ax = plt.subplots()\n",
    "ax.plot(x_4, y_4)\n",
    "ax.axhline(y=0, color='k');\n",
    "plt.title(\"x^5 - 2.66x^4 - 104.5099x^3 + 81.435104x^2 + 2525.02674x - 4405.59219\");\n",
    "\n",
    "intervals = get_1root_intervals(get_sturm_row(y), interval)\n",
    "print(f'Количиство корней на интервале (-10, 10): {len(intervals)}')\n",
    "print(f'Интервалы в которыx находится ровно один корень: {[i for i in intervals]}')\n",
    "for interval in intervals:\n",
    "    print(f\"\\n\\t\\tРассматриваемый интервал: {interval}\\n\")\n",
    "    bisection_ans = bisection(y, interval)\n",
    "    secant_ans = secant(y, interval)\n",
    "    newton_ans = newton(y, interval)\n",
    "    print(f\"*** Метод Биссекции (Половинного деления) ***\\n\"\n",
    "          f\"Корень: {bisection_ans[0]}\\n\"\n",
    "          f\"Количество Итераций: {bisection_ans[1]}\\n\")\n",
    "    separator()\n",
    "    print(f\"*** Метод Секущих (Хорд) ***\\n\"\n",
    "          f\"Корень: {secant_ans[0]}\\n\"\n",
    "          f\"Количество Итераций: {secant_ans[1]}\")\n",
    "    separator()\n",
    "    print(f\"*** Метод Ньютона (Касательных) ***\\n\"\n",
    "          f\"Корень: {newton_ans[0]}\\n\"\n",
    "          f\"Количество Итераций: {newton_ans[1]}\")\n",
    "y"
   ]
  },
  {
   "cell_type": "markdown",
   "id": "41e41c15",
   "metadata": {},
   "source": [
    "### Тестовый пример 5"
   ]
  },
  {
   "cell_type": "code",
   "execution_count": 25,
   "id": "fb42691d",
   "metadata": {},
   "outputs": [
    {
     "name": "stdout",
     "output_type": "stream",
     "text": [
      "Количиство корней на интервале (-10, 10): 5\n",
      "Интервалы в которыx находится ровно один корень: [[-10, -9], [-8, -7], [2, 3], [3.00001, 4], [7, 8]]\n",
      "\n",
      "\t\tРассматриваемый интервал: [-10, -9]\n",
      "\n",
      "*** Метод Биссекции (Половинного деления) ***\n",
      "Корень: -9.20001220703125\n",
      "Количество Итераций: 14\n",
      "\n",
      "--------------------------------------------------\n",
      "--------------------------------------------------\n",
      "*** Метод Секущих (Хорд) ***\n",
      "Корень: -9.19999999013451\n",
      "Количество Итераций: 18\n",
      "--------------------------------------------------\n",
      "--------------------------------------------------\n",
      "*** Метод Ньютона (Касательных) ***\n",
      "Корень: -9.200000005308917\n",
      "Количество Итераций: 4\n",
      "\n",
      "\t\tРассматриваемый интервал: [-8, -7]\n",
      "\n",
      "*** Метод Биссекции (Половинного деления) ***\n",
      "Корень: -7.199981689453125\n",
      "Количество Итераций: 15\n",
      "\n",
      "--------------------------------------------------\n",
      "--------------------------------------------------\n",
      "*** Метод Секущих (Хорд) ***\n",
      "Корень: -7.200000000542465\n",
      "Количество Итераций: 6\n",
      "--------------------------------------------------\n",
      "--------------------------------------------------\n",
      "*** Метод Ньютона (Касательных) ***\n",
      "Корень: -7.199999992932308\n",
      "Количество Итераций: 4\n",
      "\n",
      "\t\tРассматриваемый интервал: [2, 3]\n",
      "\n",
      "*** Метод Биссекции (Половинного деления) ***\n",
      "Корень: 2.569976806640625\n",
      "Количество Итераций: 15\n",
      "\n",
      "--------------------------------------------------\n",
      "--------------------------------------------------\n",
      "*** Метод Секущих (Хорд) ***\n",
      "Корень: 2.570000197805116\n",
      "Количество Итераций: 19\n",
      "--------------------------------------------------\n",
      "--------------------------------------------------\n",
      "*** Метод Ньютона (Касательных) ***\n",
      "Корень: 2.5700000007375503\n",
      "Количество Итераций: 3\n",
      "\n",
      "\t\tРассматриваемый интервал: [3.00001, 4]\n",
      "\n",
      "*** Метод Биссекции (Половинного деления) ***\n",
      "Корень: 3.2800059793090814\n",
      "Количество Итераций: 15\n",
      "\n",
      "--------------------------------------------------\n",
      "--------------------------------------------------\n",
      "*** Метод Секущих (Хорд) ***\n",
      "Корень: 3.279999798430608\n",
      "Количество Итераций: 20\n",
      "--------------------------------------------------\n",
      "--------------------------------------------------\n",
      "*** Метод Ньютона (Касательных) ***\n",
      "Корень: 3.2799999923029985\n",
      "Количество Итераций: 4\n",
      "\n",
      "\t\tРассматриваемый интервал: [7, 8]\n",
      "\n",
      "*** Метод Биссекции (Половинного деления) ***\n",
      "Корень: 7.88995361328125\n",
      "Количество Итераций: 14\n",
      "\n",
      "--------------------------------------------------\n",
      "--------------------------------------------------\n",
      "*** Метод Секущих (Хорд) ***\n",
      "Корень: 7.890000000061255\n",
      "Количество Итераций: 7\n",
      "--------------------------------------------------\n",
      "--------------------------------------------------\n",
      "*** Метод Ньютона (Касательных) ***\n",
      "Корень: 7.8900000024698365\n",
      "Количество Итераций: 4\n"
     ]
    },
    {
     "data": {
      "text/latex": [
       "$\\displaystyle x^{5} + 2.66 x^{4} - 104.5099 x^{3} - 81.435104 x^{2} + 2525.02674 x - 4405.59219$"
      ],
      "text/plain": [
       "x**5 + 2.66*x**4 - 104.5099*x**3 - 81.435104*x**2 + 2525.02674*x - 4405.59219"
      ]
     },
     "execution_count": 25,
     "metadata": {},
     "output_type": "execute_result"
    },
    {
     "data": {
      "image/png": "[encoded data removed]",
      "text/plain": [
       "<Figure size 576x432 with 1 Axes>"
      ]
     },
     "metadata": {},
     "output_type": "display_data"
    }
   ],
   "source": [
    "\n",
    "interval = (-10, 10)\n",
    "\n",
    "x_5 = np.arange(2, 6, 0.1)\n",
    "y_5 = x_5**3 - 11.98*x_5**2 + 46.296*x_5 - 57.6576\n",
    "fig, ax = plt.subplots()\n",
    "ax.plot(x_5, y_5)\n",
    "ax.axhline(y=0, color='k');\n",
    "plt.title(\"x^3 - 11.98x^2 + 46.296x - 57.6576\");\n",
    "\n",
    "intervals = get_1root_intervals(get_sturm_row(y), interval)\n",
    "print(f'Количиство корней на интервале (-10, 10): {len(intervals)}')\n",
    "print(f'Интервалы в которыx находится ровно один корень: {[i for i in intervals]}')\n",
    "for interval in intervals:\n",
    "    print(f\"\\n\\t\\tРассматриваемый интервал: {interval}\\n\")\n",
    "    bisection_ans = bisection(y, interval)\n",
    "    secant_ans = secant(y, interval)\n",
    "    newton_ans = newton(y, interval)\n",
    "    print(f\"*** Метод Биссекции (Половинного деления) ***\\n\"\n",
    "          f\"Корень: {bisection_ans[0]}\\n\"\n",
    "          f\"Количество Итераций: {bisection_ans[1]}\\n\")\n",
    "    separator()\n",
    "    print(f\"*** Метод Секущих (Хорд) ***\\n\"\n",
    "          f\"Корень: {secant_ans[0]}\\n\"\n",
    "          f\"Количество Итераций: {secant_ans[1]}\")\n",
    "    separator()\n",
    "    print(f\"*** Метод Ньютона (Касательных) ***\\n\"\n",
    "          f\"Корень: {newton_ans[0]}\\n\"\n",
    "          f\"Количество Итераций: {newton_ans[1]}\")\n",
    "y"
   ]
  },
  {
   "cell_type": "markdown",
   "id": "22a82289",
   "metadata": {},
   "source": [
    "### Задание"
   ]
  },
  {
   "cell_type": "code",
   "execution_count": 34,
   "id": "13b98687",
   "metadata": {},
   "outputs": [
    {
     "name": "stdout",
     "output_type": "stream",
     "text": [
      "Количиство корней на интервале (-10, 10): 2\n",
      "Интервалы в которыx находится ровно один корень: [[4, 5], [8, 9]]\n",
      "\n",
      "\t\tРассматриваемый интервал: [4, 5]\n",
      "\n",
      "*** Метод Биссекции (Половинного деления) ***\n",
      "Корень: 4.1392669677734375\n",
      "Количество Итераций: 16\n",
      "\n",
      "--------------------------------------------------\n",
      "--------------------------------------------------\n",
      "*** Метод Секущих (Хорд) ***\n",
      "Корень: 4.139264584195006\n",
      "Количество Итераций: 4\n",
      "--------------------------------------------------\n",
      "--------------------------------------------------\n",
      "*** Метод Ньютона (Касательных) ***\n",
      "Корень: 4.1392640717946385\n",
      "Количество Итераций: 4\n",
      "\n",
      "\t\tРассматриваемый интервал: [8, 9]\n",
      "\n",
      "*** Метод Биссекции (Половинного деления) ***\n",
      "Корень: 8.437500953674316\n",
      "Количество Итераций: 20\n",
      "\n",
      "--------------------------------------------------\n",
      "--------------------------------------------------\n",
      "*** Метод Секущих (Хорд) ***\n",
      "Корень: 8.43750074917939\n",
      "Количество Итераций: 7\n",
      "--------------------------------------------------\n",
      "--------------------------------------------------\n",
      "*** Метод Ньютона (Касательных) ***\n",
      "Корень: 8.437501084411664\n",
      "Количество Итераций: 3\n",
      "--------------------------------------------------\n",
      "--------------------------------------------------\n",
      "**** Solving with Nampy ****\n",
      "ROOTS: [-22.15172516   8.43750108   4.13926407]\n",
      "\n"
     ]
    },
    {
     "data": {
      "text/latex": [
       "$\\displaystyle x^{3} + 9.57496 x^{2} - 243.672 x + 773.65$"
      ],
      "text/plain": [
       "x**3 + 9.57496*x**2 - 243.672*x + 773.65"
      ]
     },
     "execution_count": 34,
     "metadata": {},
     "output_type": "execute_result"
    },
    {
     "data": {
      "image/png": "[encoded data removed]",
      "text/plain": [
       "<Figure size 576x432 with 1 Axes>"
      ]
     },
     "metadata": {},
     "output_type": "display_data"
    }
   ],
   "source": [
    "y = x**3 + 9.57496*x**2 - 243.672*x + 773.65\n",
    "\n",
    "interval = (-10, 10)\n",
    "\n",
    "x_task = np.arange(-10, 10, 0.1)\n",
    "y_task = x_task**3 -6.4951*x_task**2 - 31.2543*x_task + 23.1782\n",
    "fig, ax = plt.subplots()\n",
    "ax.plot(x_task, y_task)\n",
    "ax.axhline(y=0, color='k');\n",
    "plt.title(\"x^3 - 6.4951x^2 - 31.2543x + 23.1782\");\n",
    "\n",
    "intervals = get_1root_intervals(get_sturm_row(y), interval)\n",
    "print(f'Количиство корней на интервале (-10, 10): {len(intervals)}')\n",
    "print(f'Интервалы в которыx находится ровно один корень: {[i for i in intervals]}')\n",
    "for interval in intervals:\n",
    "    print(f\"\\n\\t\\tРассматриваемый интервал: {interval}\\n\")\n",
    "    bisection_ans = bisection(y, interval)\n",
    "    secant_ans = secant(y, interval)\n",
    "    newton_ans = newton(y, interval)\n",
    "    print(f\"*** Метод Биссекции (Половинного деления) ***\\n\"\n",
    "          f\"Корень: {bisection_ans[0]}\\n\"\n",
    "          f\"Количество Итераций: {bisection_ans[1]}\\n\")\n",
    "    separator()\n",
    "    print(f\"*** Метод Секущих (Хорд) ***\\n\"\n",
    "          f\"Корень: {secant_ans[0]}\\n\"\n",
    "          f\"Количество Итераций: {secant_ans[1]}\")\n",
    "    separator()\n",
    "    print(f\"*** Метод Ньютона (Касательных) ***\\n\"\n",
    "          f\"Корень: {newton_ans[0]}\\n\"\n",
    "          f\"Количество Итераций: {newton_ans[1]}\")\n",
    "separator()\n",
    "correct_root = np.roots([1, 9.57496, - 243.672, 773.65])\n",
    "print(f'**** Solving with Nampy ****\\n'\n",
    "          f'ROOTS: {correct_root}\\n')\n",
    "y"
   ]
  },
  {
   "cell_type": "code",
   "execution_count": null,
   "id": "e28d9047",
   "metadata": {},
   "outputs": [],
   "source": []
  },
  {
   "cell_type": "code",
   "execution_count": null,
   "id": "95b21db8",
   "metadata": {},
   "outputs": [],
   "source": []
  }
 ],
 "metadata": {
  "kernelspec": {
   "display_name": "Python 3 (ipykernel)",
   "language": "python",
   "name": "python3"
  },
  "language_info": {
   "codemirror_mode": {
    "name": "ipython",
    "version": 3
   },
   "file_extension": ".py",
   "mimetype": "text/x-python",
   "name": "python",
   "nbconvert_exporter": "python",
   "pygments_lexer": "ipython3",
   "version": "3.8.10"
  }
 },
 "nbformat": 4,
 "nbformat_minor": 5
}
