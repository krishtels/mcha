{
 "cells": [
  {
   "cell_type": "code",
   "execution_count": 1,
   "id": "c73ea311",
   "metadata": {},
   "outputs": [],
   "source": [
    "import numpy as np\n",
    "import matplotlib.pyplot as plt"
   ]
  },
  {
   "cell_type": "code",
   "execution_count": 48,
   "id": "14cb8ecc",
   "metadata": {},
   "outputs": [],
   "source": [
    "def input_func():\n",
    "    def f(x): return np.sinh(x)\n",
    "\n",
    "    left_border, dots_count, right_border = 0, 6, 2\n",
    "\n",
    "    dots = []\n",
    "    for i in range(dots_count):\n",
    "        x = left_border + (right_border - left_border) * i / (dots_count - 1)\n",
    "        y = f(x)\n",
    "        dots += [(x, y)]\n",
    "\n",
    "    return dots, f"
   ]
  },
  {
   "cell_type": "markdown",
   "id": "8c7e5d73",
   "metadata": {},
   "source": [
    "## Метод прогонки для трехдиагональной матрицы"
   ]
  },
  {
   "cell_type": "code",
   "execution_count": 3,
   "id": "c606a1ca",
   "metadata": {},
   "outputs": [],
   "source": [
    "def three_diag_solve(A, b):\n",
    "    A = A.copy()\n",
    "    b = b.copy()\n",
    "    n = len(A)\n",
    "\n",
    "    A[0][1] /= A[0][0]\n",
    "    for i in range(1, n - 1):\n",
    "        A[i][i + 1] /= (A[i][i] - A[i][i - 1] * A[i - 1][i])\n",
    "\n",
    "    b[0] /= A[0][0]\n",
    "    for i in range(1, n):\n",
    "        b[i] = (b[i] - A[i][i - 1] * b[i - 1]) / (A[i][i] - A[i][i - 1] * A[i - 1][i])\n",
    "\n",
    "    x = np.zeros(n)\n",
    "    x[-1] = b[-1]\n",
    "    for i in range(n - 2, -1, -1):\n",
    "        x[i] = b[i] - A[i][i + 1] * x[i + 1]\n",
    "\n",
    "    return x"
   ]
  },
  {
   "cell_type": "markdown",
   "id": "6c708f3d",
   "metadata": {},
   "source": [
    "## Построение кубического сплайна"
   ]
  },
  {
   "cell_type": "code",
   "execution_count": 13,
   "id": "67e829e0",
   "metadata": {},
   "outputs": [],
   "source": [
    "def spline_built(dots):\n",
    "    n = len(dots) - 1\n",
    "    (x, y) = map(list, zip(*dots))\n",
    "\n",
    "    h = [None]\n",
    "    for i in range(1, n + 1):\n",
    "        h += [x[i] - x[i - 1]]\n",
    "\n",
    "    A = [[None] * n for i in range(n)]\n",
    "\n",
    "    for i in range(1, n):\n",
    "        for j in range(1, n):\n",
    "            A[i][j] = 0.0\n",
    "\n",
    "    for i in range(1, n - 1):\n",
    "        A[i + 1][i] = h[i + 1]\n",
    "\n",
    "    for i in range(1, n):\n",
    "        A[i][i] = 2 * (h[i] + h[i + 1])\n",
    "\n",
    "    for i in range(1, n - 1):\n",
    "        A[i][i + 1] = h[i + 1]\n",
    "\n",
    "    F = []\n",
    "    for i in range(1, n):\n",
    "        F += [3 * ((y[i + 1] - y[i]) / h[i + 1] - (y[i] - y[i - 1]) / h[i])]\n",
    "\n",
    "    A = [A[i][1:] for i in range(len(A)) if i]\n",
    "\n",
    "    c = three_diag_solve(A, F)\n",
    "    c = [0.0] + list(c) + [0.0]\n",
    "\n",
    "    def evaluate(xdot):\n",
    "        for i in range(1, len(x)):\n",
    "            if x[i - 1] <= xdot <= x[i]:\n",
    "                val = 0\n",
    "                val += y[i]\n",
    "                b = (y[i] - y[i - 1]) / h[i] + (2 * c[i] + c[i - 1]) * h[i] / 3\n",
    "                val += b * (xdot - x[i])\n",
    "                val += c[i] * ((xdot - x[i]) ** 2)\n",
    "                d = (c[i] - c[i - 1]) / (3 * h[i])\n",
    "                val += d * ((xdot - x[i]) ** 3)\n",
    "                return val\n",
    "        return None\n",
    "\n",
    "    def output():\n",
    "        print(\"Cubic spline:\", '\\n')\n",
    "        for i in range(1, len(x)):\n",
    "            val = 0\n",
    "            b = (y[i] - y[i - 1]) / h[i] + (2 * c[i] + c[i - 1]) * h[i] / 3\n",
    "            d = (c[i] - c[i - 1]) / (3 * h[i])\n",
    "            print(f\"[{x[i - 1]}, {x[i]}) ->\")\n",
    "            print(np.poly1d([d, c[i], b, y[i]]), '\\n')\n",
    "\n",
    "    return evaluate, output"
   ]
  },
  {
   "cell_type": "markdown",
   "id": "a325ee4b",
   "metadata": {},
   "source": [
    "## Решение задания"
   ]
  },
  {
   "cell_type": "code",
   "execution_count": null,
   "id": "2c5a7282",
   "metadata": {},
   "outputs": [],
   "source": []
  },
  {
   "cell_type": "code",
   "execution_count": 14,
   "id": "6abb644c",
   "metadata": {},
   "outputs": [
    {
     "name": "stdout",
     "output_type": "stream",
     "text": [
      "Cubic spline interpolation \n",
      "\n",
      "(x,y) = [(0.0, 0.0), (0.4, 0.4107523258028155), (0.8, 0.888105982187623), (1.2, 1.5094613554121725), (1.6, 2.37556795320023), (2.0, 3.626860407847019)] \n",
      "\n",
      "Cubic spline: \n",
      "\n",
      "[0.0, 0.4) ->\n",
      "        3          2\n",
      "0.1617 x + 0.1941 x + 1.079 x + 0.4108 \n",
      "\n",
      "[0.4, 0.8) ->\n",
      "        3          2\n",
      "0.2319 x + 0.4724 x + 1.345 x + 0.8881 \n",
      "\n",
      "[0.8, 1.2) ->\n",
      "        3          2\n",
      "0.1199 x + 0.6163 x + 1.781 x + 1.509 \n",
      "\n",
      "[1.2, 1.6) ->\n",
      "        3         2\n",
      "0.8627 x + 1.651 x + 2.688 x + 2.376 \n",
      "\n",
      "[1.6, 2.0) ->\n",
      "        3\n",
      "-1.376 x + 3.348 x + 3.627 \n",
      "\n",
      "          f(1.0) = 1.1752011936438014\n",
      "Cubic Spline(1.0) = 1.1770094994938658\n",
      "      delta(1.0) = 0.0018083058500644178\n"
     ]
    },
    {
     "data": {
      "image/png": "[encoded data removed]",
      "text/plain": [
       "<Figure size 432x288 with 1 Axes>"
      ]
     },
     "metadata": {
      "needs_background": "light"
     },
     "output_type": "display_data"
    }
   ],
   "source": [
    "print(\"Cubic spline interpolation \\n\")\n",
    "plot_dots = 10 ** 4\n",
    "\n",
    "dots, f = input_func()\n",
    "(x, y) = map(list, zip(*dots))\n",
    "print(\"(x,y) =\", dots, '\\n')\n",
    "\n",
    "plt.plot(x, y, 'og')\n",
    "x_plot = np.linspace(min(x), max(x), plot_dots)\n",
    "\n",
    "y_plot = [f(xdot) for xdot in x_plot]\n",
    "plt.plot(x_plot, y_plot)\n",
    "\n",
    "spl, output = spline_built(dots)\n",
    "y_plot = [spl(xdot) for xdot in x_plot]\n",
    "plt.plot(x_plot, y_plot)\n",
    "\n",
    "output()\n",
    "\n",
    "xdot = 1.0\n",
    "print(f\"          f({xdot}) =\", f(xdot))\n",
    "print(f\"Cubic Spline({xdot}) =\", spl(xdot))\n",
    "print(f\"      delta({xdot}) =\", abs(f(xdot) - spl(xdot)))\n",
    "\n",
    "plt.show()"
   ]
  },
  {
   "cell_type": "markdown",
   "id": "54277973",
   "metadata": {},
   "source": [
    "## Тестовый пример 1"
   ]
  },
  {
   "cell_type": "code",
   "execution_count": 19,
   "id": "2e1f65f2",
   "metadata": {},
   "outputs": [
    {
     "name": "stdout",
     "output_type": "stream",
     "text": [
      "Cubic spline interpolation \n",
      "\n",
      "(x,y) = [(0.0, 1.0), (1.1111111111111112, 0.4436660217022285), (2.2222222222222223, -0.6063209223738354), (3.3333333333333335, -0.981674004711079), (4.444444444444445, -0.2647498781834829), (5.555555555555555, 0.7467529543114478), (6.666666666666667, 0.9273677030509753), (7.777777777777778, 0.07613012462407193), (8.88888888888889, -0.859815004003662), (10.0, -0.8390715290764524)] \n",
      "\n",
      "Cubic spline: \n",
      "\n",
      "[0.0, 1.1111111111111112) ->\n",
      "         3          2\n",
      "-0.1181 x - 0.3937 x - 0.7923 x + 0.4437 \n",
      "\n",
      "[1.1111111111111112, 2.2222222222222223) ->\n",
      "        3          2\n",
      "0.2307 x + 0.3752 x - 0.8129 x - 0.6063 \n",
      "\n",
      "[2.2222222222222223, 3.3333333333333335) ->\n",
      "         3          2\n",
      "0.04712 x + 0.5323 x + 0.1954 x - 0.9817 \n",
      "\n",
      "[3.3333333333333335, 4.444444444444445) ->\n",
      "         3        2\n",
      "-0.1147 x + 0.15 x + 0.9534 x - 0.2647 \n",
      "\n",
      "[4.444444444444445, 5.555555555555555) ->\n",
      "         3          2\n",
      "-0.1699 x - 0.4163 x + 0.6575 x + 0.7468 \n",
      "\n",
      "[5.555555555555555, 6.666666666666667) ->\n",
      "          3          2\n",
      "-0.02629 x - 0.5039 x - 0.3649 x + 0.9274 \n",
      "\n",
      "[6.666666666666667, 7.777777777777778) ->\n",
      "        3          2\n",
      "0.1285 x - 0.0755 x - 1.009 x + 0.07613 \n",
      "\n",
      "[7.777777777777778, 8.88888888888889) ->\n",
      "        3          2\n",
      "0.2027 x + 0.6001 x - 0.4258 x - 0.8598 \n",
      "\n",
      "[8.88888888888889, 10.0) ->\n",
      "       3\n",
      "-0.18 x + 0.2409 x - 0.8391 \n",
      "\n",
      "          f(2.0) = -0.4161468365471424\n",
      "Cubic Spline(2.0) = -0.4096845773934745\n",
      "      delta(2.0) = 0.006462259153667882\n"
     ]
    },
    {
     "data": {
      "image/png": "[encoded data removed]",
      "text/plain": [
       "<Figure size 432x288 with 1 Axes>"
      ]
     },
     "metadata": {
      "needs_background": "light"
     },
     "output_type": "display_data"
    }
   ],
   "source": [
    "print(\"Cubic spline interpolation \\n\")\n",
    "plot_dots = 10 ** 4\n",
    "\n",
    "dots, f = input_func()\n",
    "(x, y) = map(list, zip(*dots))\n",
    "print(\"(x,y) =\", dots, '\\n')\n",
    "\n",
    "plt.plot(x, y, 'og')\n",
    "x_plot = np.linspace(min(x), max(x), plot_dots)\n",
    "\n",
    "y_plot = [f(xdot) for xdot in x_plot]\n",
    "plt.plot(x_plot, y_plot)\n",
    "\n",
    "spl, output = spline_built(dots)\n",
    "y_plot = [spl(xdot) for xdot in x_plot]\n",
    "plt.plot(x_plot, y_plot)\n",
    "\n",
    "output()\n",
    "\n",
    "xdot = 2.0\n",
    "print(f\"          f({xdot}) =\", f(xdot))\n",
    "print(f\"Cubic Spline({xdot}) =\", spl(xdot))\n",
    "print(f\"      delta({xdot}) =\", abs(f(xdot) - spl(xdot)))\n",
    "\n",
    "plt.show()"
   ]
  },
  {
   "cell_type": "markdown",
   "id": "64a637a8",
   "metadata": {},
   "source": [
    "## Тестовый пример 2"
   ]
  },
  {
   "cell_type": "code",
   "execution_count": 26,
   "id": "9d501d0e",
   "metadata": {},
   "outputs": [
    {
     "name": "stdout",
     "output_type": "stream",
     "text": [
      "Cubic spline interpolation \n",
      "\n",
      "(x,y) = [(1.0, 1.0), (2.0, 0.5), (3.0, 0.3333333333333333), (4.0, 0.25), (5.0, 0.2)] \n",
      "\n",
      "Cubic spline: \n",
      "\n",
      "[1.0, 2.0) ->\n",
      "         3          2\n",
      "0.08393 x + 0.2518 x - 0.3321 x + 0.5 \n",
      "\n",
      "[2.0, 3.0) ->\n",
      "          3            2\n",
      "-0.08631 x - 0.007143 x - 0.0875 x + 0.3333 \n",
      "\n",
      "[3.0, 4.0) ->\n",
      "         3           2\n",
      "0.01131 x + 0.02679 x - 0.06786 x + 0.25 \n",
      "\n",
      "[4.0, 5.0) ->\n",
      "           3\n",
      "-0.008929 x - 0.04107 x + 0.2 \n",
      "\n",
      "          f(3.5) = 0.2857142857142857\n",
      "Cubic Spline(3.5) = 0.28921130952380947\n",
      "      delta(3.5) = 0.0034970238095237693\n"
     ]
    },
    {
     "data": {
      "image/png": "[encoded data removed]",
      "text/plain": [
       "<Figure size 432x288 with 1 Axes>"
      ]
     },
     "metadata": {
      "needs_background": "light"
     },
     "output_type": "display_data"
    }
   ],
   "source": [
    "print(\"Cubic spline interpolation \\n\")\n",
    "plot_dots = 10 ** 4\n",
    "\n",
    "dots, f = input_func()\n",
    "(x, y) = map(list, zip(*dots))\n",
    "print(\"(x,y) =\", dots, '\\n')\n",
    "\n",
    "plt.plot(x, y, 'og')\n",
    "x_plot = np.linspace(min(x), max(x), plot_dots)\n",
    "\n",
    "y_plot = [f(xdot) for xdot in x_plot]\n",
    "plt.plot(x_plot, y_plot)\n",
    "\n",
    "spl, output = spline_built(dots)\n",
    "y_plot = [spl(xdot) for xdot in x_plot]\n",
    "plt.plot(x_plot, y_plot)\n",
    "\n",
    "output()\n",
    "\n",
    "xdot = 3.5\n",
    "print(f\"          f({xdot}) =\", f(xdot))\n",
    "print(f\"Cubic Spline({xdot}) =\", spl(xdot))\n",
    "print(f\"      delta({xdot}) =\", abs(f(xdot) - spl(xdot)))\n",
    "\n",
    "plt.show()"
   ]
  },
  {
   "cell_type": "markdown",
   "id": "f30b4115",
   "metadata": {},
   "source": [
    "## Тестовый пример 3"
   ]
  },
  {
   "cell_type": "code",
   "execution_count": 30,
   "id": "e630ec9a",
   "metadata": {},
   "outputs": [
    {
     "name": "stdout",
     "output_type": "stream",
     "text": [
      "Cubic spline interpolation \n",
      "\n",
      "(x,y) = [(0.0, 0.0), (0.5, 0.7071067811865476), (1.0, 1.0), (1.5, 1.224744871391589), (2.0, 1.4142135623730951)] \n",
      "\n",
      "Cubic spline: \n",
      "\n",
      "[0.0, 0.5) ->\n",
      "         3         2\n",
      "-0.8537 x - 1.281 x + 0.9874 x + 0.7071 \n",
      "\n",
      "[0.5, 1.0) ->\n",
      "        3          2\n",
      "0.9548 x + 0.1516 x + 0.4229 x + 1 \n",
      "\n",
      "[1.0, 1.5) ->\n",
      "         3          2\n",
      "-0.1969 x - 0.1437 x + 0.4268 x + 1.225 \n",
      "\n",
      "[1.5, 2.0) ->\n",
      "         3\n",
      "0.09582 x + 0.355 x + 1.414 \n",
      "\n",
      "          f(1.7) = 1.3038404810405297\n",
      "Cubic Spline(1.7) = 1.3051318646676442\n",
      "      delta(1.7) = 0.0012913836271144508\n"
     ]
    },
    {
     "data": {
      "image/png": "[encoded data removed]",
      "text/plain": [
       "<Figure size 432x288 with 1 Axes>"
      ]
     },
     "metadata": {
      "needs_background": "light"
     },
     "output_type": "display_data"
    }
   ],
   "source": [
    "print(\"Cubic spline interpolation \\n\")\n",
    "plot_dots = 10 ** 4\n",
    "\n",
    "dots, f = input_func()\n",
    "(x, y) = map(list, zip(*dots))\n",
    "print(\"(x,y) =\", dots, '\\n')\n",
    "\n",
    "plt.plot(x, y, 'og')\n",
    "x_plot = np.linspace(min(x), max(x), plot_dots)\n",
    "\n",
    "y_plot = [f(xdot) for xdot in x_plot]\n",
    "plt.plot(x_plot, y_plot)\n",
    "\n",
    "spl, output = spline_built(dots)\n",
    "y_plot = [spl(xdot) for xdot in x_plot]\n",
    "plt.plot(x_plot, y_plot)\n",
    "\n",
    "output()\n",
    "\n",
    "xdot = 1.7\n",
    "print(f\"          f({xdot}) =\", f(xdot))\n",
    "print(f\"Cubic Spline({xdot}) =\", spl(xdot))\n",
    "print(f\"      delta({xdot}) =\", abs(f(xdot) - spl(xdot)))\n",
    "\n",
    "plt.show()"
   ]
  },
  {
   "cell_type": "markdown",
   "id": "6aef7d8b",
   "metadata": {},
   "source": [
    "## Тестовый пример 4"
   ]
  },
  {
   "cell_type": "code",
   "execution_count": 34,
   "id": "0ce8b595",
   "metadata": {},
   "outputs": [
    {
     "name": "stdout",
     "output_type": "stream",
     "text": [
      "Cubic spline interpolation \n",
      "\n",
      "(x,y) = [(-4.0, 0.7568024953079282), (-3.5789473684210527, 0.42354465143912423), (-3.1578947368421053, 0.01630136119395508), (-2.736842105263158, -0.393789476483059), (-2.3157894736842106, -0.7350925485799386), (-1.8947368421052633, -0.9479884972487855), (-1.473684210526316, -0.995288323076044), (-1.0526315789473686, -0.8687296180358696), (-0.6315789473684212, -0.5904198559291867), (-0.2105263157894739, -0.2089746240627857), (0.21052631578947345, 0.20897462406278527), (0.6315789473684212, 0.5904198559291867), (1.0526315789473681, 0.8687296180358693), (1.473684210526316, 0.995288323076044), (1.8947368421052628, 0.9479884972487856), (2.3157894736842106, 0.7350925485799386), (2.7368421052631575, 0.3937894764830594), (3.1578947368421053, -0.01630136119395508), (3.578947368421052, -0.42354465143912384), (4.0, -0.7568024953079282)] \n",
      "\n",
      "Cubic spline: \n",
      "\n",
      "[-4.0, -3.5789473684210527) ->\n",
      "         3          2\n",
      "-0.2516 x - 0.3178 x - 0.8807 x + 0.4235 \n",
      "\n",
      "[-3.5789473684210527, -3.1578947368421053) ->\n",
      "        3          2\n",
      "0.2669 x + 0.0193 x - 1.006 x + 0.0163 \n",
      "\n",
      "[-3.1578947368421053, -2.736842105263158) ->\n",
      "        3          2\n",
      "0.1371 x + 0.1924 x - 0.9172 x - 0.3938 \n",
      "\n",
      "[-2.736842105263158, -2.3157894736842106) ->\n",
      "        3         2\n",
      "0.1445 x + 0.375 x - 0.6783 x - 0.7351 \n",
      "\n",
      "[-2.3157894736842106, -1.8947368421052633) ->\n",
      "         3          2\n",
      "0.08354 x + 0.4805 x - 0.3181 x - 0.948 \n",
      "\n",
      "[-1.8947368421052633, -1.473684210526316) ->\n",
      "         3          2\n",
      "0.01953 x + 0.5052 x + 0.09691 x - 0.9953 \n",
      "\n",
      "[-1.473684210526316, -1.0526315789473686) ->\n",
      "          3          2\n",
      "-0.05098 x + 0.4408 x + 0.4952 x - 0.8687 \n",
      "\n",
      "[-1.0526315789473686, -0.6315789473684212) ->\n",
      "         3          2\n",
      "-0.1118 x + 0.2996 x + 0.8069 x - 0.5904 \n",
      "\n",
      "[-0.6315789473684212, -0.2105263157894739) ->\n",
      "         3         2\n",
      "-0.1532 x + 0.106 x + 0.9777 x - 0.209 \n",
      "\n",
      "[-0.2105263157894739, 0.21052631578947345) ->\n",
      "         3         2\n",
      "-0.1679 x - 0.106 x + 0.9777 x + 0.209 \n",
      "\n",
      "[0.21052631578947345, 0.6315789473684212) ->\n",
      "         3          2\n",
      "-0.1532 x - 0.2996 x + 0.8069 x + 0.5904 \n",
      "\n",
      "[0.6315789473684212, 1.0526315789473681) ->\n",
      "         3          2\n",
      "-0.1118 x - 0.4408 x + 0.4952 x + 0.8687 \n",
      "\n",
      "[1.0526315789473681, 1.473684210526316) ->\n",
      "          3          2\n",
      "-0.05098 x - 0.5052 x + 0.09691 x + 0.9953 \n",
      "\n",
      "[1.473684210526316, 1.8947368421052628) ->\n",
      "         3          2\n",
      "0.01953 x - 0.4805 x - 0.3181 x + 0.948 \n",
      "\n",
      "[1.8947368421052628, 2.3157894736842106) ->\n",
      "         3         2\n",
      "0.08354 x - 0.375 x - 0.6783 x + 0.7351 \n",
      "\n",
      "[2.3157894736842106, 2.7368421052631575) ->\n",
      "        3          2\n",
      "0.1445 x - 0.1924 x - 0.9172 x + 0.3938 \n",
      "\n",
      "[2.7368421052631575, 3.1578947368421053) ->\n",
      "        3          2\n",
      "0.1371 x - 0.0193 x - 1.006 x - 0.0163 \n",
      "\n",
      "[3.1578947368421053, 3.578947368421052) ->\n",
      "        3          2\n",
      "0.2669 x + 0.3178 x - 0.8807 x - 0.4235 \n",
      "\n",
      "[3.578947368421052, 4.0) ->\n",
      "         3\n",
      "-0.2516 x - 0.7469 x - 0.7568 \n",
      "\n",
      "          f(3.5) = -0.35078322768961984\n",
      "Cubic Spline(3.5) = -0.35216620674163546\n",
      "      delta(3.5) = 0.0013829790520156204\n"
     ]
    },
    {
     "data": {
      "image/png": "[encoded data removed]",
      "text/plain": [
       "<Figure size 432x288 with 1 Axes>"
      ]
     },
     "metadata": {
      "needs_background": "light"
     },
     "output_type": "display_data"
    }
   ],
   "source": [
    "print(\"Cubic spline interpolation \\n\")\n",
    "plot_dots = 10 ** 4\n",
    "\n",
    "dots, f = input_func()\n",
    "(x, y) = map(list, zip(*dots))\n",
    "print(\"(x,y) =\", dots, '\\n')\n",
    "\n",
    "plt.plot(x, y, 'og')\n",
    "x_plot = np.linspace(min(x), max(x), plot_dots)\n",
    "\n",
    "y_plot = [f(xdot) for xdot in x_plot]\n",
    "plt.plot(x_plot, y_plot)\n",
    "\n",
    "spl, output = spline_built(dots)\n",
    "y_plot = [spl(xdot) for xdot in x_plot]\n",
    "plt.plot(x_plot, y_plot)\n",
    "\n",
    "output()\n",
    "\n",
    "xdot = 3.5\n",
    "print(f\"          f({xdot}) =\", f(xdot))\n",
    "print(f\"Cubic Spline({xdot}) =\", spl(xdot))\n",
    "print(f\"      delta({xdot}) =\", abs(f(xdot) - spl(xdot)))\n",
    "\n",
    "plt.show()"
   ]
  },
  {
   "cell_type": "markdown",
   "id": "f4e6d7a2",
   "metadata": {},
   "source": [
    "## Тестовый пример 5"
   ]
  },
  {
   "cell_type": "code",
   "execution_count": 40,
   "id": "ba0dd042",
   "metadata": {
    "scrolled": false
   },
   "outputs": [
    {
     "name": "stdout",
     "output_type": "stream",
     "text": [
      "Cubic spline interpolation \n",
      "\n",
      "(x,y) = [(-1.5, -14.101419947171719), (-1.3421052631578947, -4.296213834793093), (-1.1842105263157894, -2.456583513710662), (-1.0263157894736843, -1.6514280284936969), (-0.868421052631579, -1.1815345903248633), (-0.7105263157894737, -0.8604442318710142), (-0.5526315789473685, -0.6167318572306016), (-0.39473684210526305, -0.4166029673192194), (-0.23684210526315796, -0.24137226688581204), (-0.07894736842105265, -0.07911179644301636), (0.07894736842105265, 0.07911179644301636), (0.23684210526315796, 0.24137226688581204), (0.39473684210526305, 0.4166029673192194), (0.5526315789473686, 0.6167318572306018), (0.7105263157894739, 0.8604442318710146), (0.8684210526315788, 1.1815345903248629), (1.026315789473684, 1.651428028493696), (1.1842105263157894, 2.456583513710662), (1.3421052631578947, 4.296213834793093), (1.5, 14.101419947171719)] \n",
      "\n",
      "Cubic spline: \n",
      "\n",
      "[-1.5, -1.3421052631578947) ->\n",
      "        3         2\n",
      "-524.8 x - 248.6 x + 35.93 x - 4.296 \n",
      "\n",
      "[-1.3421052631578947, -1.1842105263157894) ->\n",
      "       3         2\n",
      "600.5 x + 35.85 x + 2.341 x - 2.457 \n",
      "\n",
      "[-1.1842105263157894, -1.0263157894736843) ->\n",
      "        3         2\n",
      "-116.4 x - 19.29 x + 4.956 x - 1.651 \n",
      "\n",
      "[-1.0263157894736843, -0.868421052631579) ->\n",
      "       3          2\n",
      "42.72 x + 0.9508 x + 2.061 x - 1.182 \n",
      "\n",
      "[-0.868421052631579, -0.7105263157894737) ->\n",
      "        3         2\n",
      "-7.124 x - 2.424 x + 1.829 x - 0.8604 \n",
      "\n",
      "[-0.7105263157894737, -0.5526315789473685) ->\n",
      "       3         2\n",
      "3.917 x - 0.568 x + 1.356 x - 0.6167 \n",
      "\n",
      "[-0.5526315789473685, -0.39473684210526305) ->\n",
      "         3          2\n",
      "0.03991 x - 0.5491 x + 1.18 x - 0.4166 \n",
      "\n",
      "[-0.39473684210526305, -0.23684210526315796) ->\n",
      "        3          2\n",
      "0.6699 x - 0.2317 x + 1.057 x - 0.2414 \n",
      "\n",
      "[-0.23684210526315796, -0.07894736842105265) ->\n",
      "        3           2\n",
      "0.3105 x - 0.08467 x + 1.007 x - 0.07911 \n",
      "\n",
      "[-0.07894736842105265, 0.07894736842105265) ->\n",
      "        3           2\n",
      "0.3575 x + 0.08467 x + 1.007 x + 0.07911 \n",
      "\n",
      "[0.07894736842105265, 0.23684210526315796) ->\n",
      "        3          2\n",
      "0.3105 x + 0.2317 x + 1.057 x + 0.2414 \n",
      "\n",
      "[0.23684210526315796, 0.39473684210526305) ->\n",
      "        3          2\n",
      "0.6699 x + 0.5491 x + 1.18 x + 0.4166 \n",
      "\n",
      "[0.39473684210526305, 0.5526315789473686) ->\n",
      "         3         2\n",
      "0.03991 x + 0.568 x + 1.356 x + 0.6167 \n",
      "\n",
      "[0.5526315789473686, 0.7105263157894739) ->\n",
      "       3         2\n",
      "3.917 x + 2.424 x + 1.829 x + 0.8604 \n",
      "\n",
      "[0.7105263157894739, 0.8684210526315788) ->\n",
      "        3          2\n",
      "-7.124 x - 0.9508 x + 2.061 x + 1.182 \n",
      "\n",
      "[0.8684210526315788, 1.026315789473684) ->\n",
      "       3         2\n",
      "42.72 x + 19.29 x + 4.956 x + 1.651 \n",
      "\n",
      "[1.026315789473684, 1.1842105263157894) ->\n",
      "        3         2\n",
      "-116.4 x - 35.85 x + 2.341 x + 2.457 \n",
      "\n",
      "[1.1842105263157894, 1.3421052631578947) ->\n",
      "       3         2\n",
      "600.5 x + 248.6 x + 35.93 x + 4.296 \n",
      "\n",
      "[1.3421052631578947, 1.5) ->\n",
      "        3\n",
      "-524.8 x + 75.18 x + 14.1 \n",
      "\n",
      "          f(0.7) = 0.8422883804630794\n",
      "Cubic Spline(0.7) = 0.8414607072933534\n",
      "      delta(0.7) = 0.0008276731697259843\n"
     ]
    },
    {
     "data": {
      "image/png": "[encoded data removed]",
      "text/plain": [
       "<Figure size 432x288 with 1 Axes>"
      ]
     },
     "metadata": {
      "needs_background": "light"
     },
     "output_type": "display_data"
    }
   ],
   "source": [
    "print(\"Cubic spline interpolation \\n\")\n",
    "plot_dots = 10 ** 4\n",
    "\n",
    "dots, f = input_func()\n",
    "(x, y) = map(list, zip(*dots))\n",
    "print(\"(x,y) =\", dots, '\\n')\n",
    "\n",
    "plt.plot(x, y, 'og')\n",
    "x_plot = np.linspace(min(x), max(x), plot_dots)\n",
    "\n",
    "y_plot = [f(xdot) for xdot in x_plot]\n",
    "plt.plot(x_plot, y_plot)\n",
    "\n",
    "spl, output = spline_built(dots)\n",
    "y_plot = [spl(xdot) for xdot in x_plot]\n",
    "plt.plot(x_plot, y_plot)\n",
    "\n",
    "output()\n",
    "\n",
    "xdot = 0.7\n",
    "print(f\"          f({xdot}) =\", f(xdot))\n",
    "print(f\"Cubic Spline({xdot}) =\", spl(xdot))\n",
    "print(f\"      delta({xdot}) =\", abs(f(xdot) - spl(xdot)))\n",
    "\n",
    "plt.show()"
   ]
  },
  {
   "cell_type": "markdown",
   "id": "e31331dc",
   "metadata": {},
   "source": [
    "## Тестовый пример 6"
   ]
  },
  {
   "cell_type": "code",
   "execution_count": 49,
   "id": "060f65db",
   "metadata": {
    "scrolled": false
   },
   "outputs": [
    {
     "name": "stdout",
     "output_type": "stream",
     "text": [
      "Cubic spline interpolation \n",
      "\n",
      "(x,y) = [(1.0, 0.0), (2.0, 1.0), (3.0, 1.584962500721156), (4.0, 2.0), (5.0, 2.321928094887362), (6.0, 2.584962500721156), (7.0, 2.807354922057604), (8.0, 3.0), (9.0, 3.169925001442312), (10.0, 3.321928094887362)] \n",
      "\n",
      "Cubic spline: \n",
      "\n",
      "[1.0, 2.0) ->\n",
      "         3          2\n",
      "-0.1005 x - 0.3016 x + 0.7989 x + 1 \n",
      "\n",
      "[2.0, 3.0) ->\n",
      "         3           2\n",
      "0.08768 x - 0.03859 x + 0.4587 x + 1.585 \n",
      "\n",
      "[3.0, 4.0) ->\n",
      "           3           2\n",
      "-0.005063 x - 0.05378 x + 0.3663 x + 2 \n",
      "\n",
      "[4.0, 5.0) ->\n",
      "          3           2\n",
      "0.009389 x - 0.02561 x + 0.2869 x + 2.322 \n",
      "\n",
      "[5.0, 6.0) ->\n",
      "          3           2\n",
      "0.001721 x - 0.02045 x + 0.2409 x + 2.585 \n",
      "\n",
      "[6.0, 7.0) ->\n",
      "          3           2\n",
      "0.001977 x - 0.01452 x + 0.2059 x + 2.807 \n",
      "\n",
      "[7.0, 8.0) ->\n",
      "          3           2\n",
      "0.001266 x - 0.01072 x + 0.1807 x + 3 \n",
      "\n",
      "[8.0, 9.0) ->\n",
      "            3           2\n",
      "-1.375e-05 x - 0.01076 x + 0.1592 x + 3.17 \n",
      "\n",
      "[9.0, 10.0) ->\n",
      "          3\n",
      "0.003587 x + 0.1484 x + 3.322 \n",
      "\n",
      "          f(3.5) = 1.8073549220576042\n",
      "Cubic Spline(3.5) = 1.8040277504812237\n",
      "      delta(3.5) = 0.0033271715763805165\n"
     ]
    },
    {
     "data": {
      "image/png": "[encoded data removed]",
      "text/plain": [
       "<Figure size 432x288 with 1 Axes>"
      ]
     },
     "metadata": {
      "needs_background": "light"
     },
     "output_type": "display_data"
    }
   ],
   "source": [
    "print(\"Cubic spline interpolation \\n\")\n",
    "plot_dots = 10 ** 4\n",
    "\n",
    "dots, f = input_func()\n",
    "(x, y) = map(list, zip(*dots))\n",
    "print(\"(x,y) =\", dots, '\\n')\n",
    "\n",
    "plt.plot(x, y, 'og')\n",
    "x_plot = np.linspace(min(x), max(x), plot_dots)\n",
    "\n",
    "y_plot = [f(xdot) for xdot in x_plot]\n",
    "plt.plot(x_plot, y_plot)\n",
    "\n",
    "spl, output = spline_built(dots)\n",
    "y_plot = [spl(xdot) for xdot in x_plot]\n",
    "plt.plot(x_plot, y_plot)\n",
    "\n",
    "output()\n",
    "\n",
    "xdot = 3.5\n",
    "print(f\"          f({xdot}) =\", f(xdot))\n",
    "print(f\"Cubic Spline({xdot}) =\", spl(xdot))\n",
    "print(f\"      delta({xdot}) =\", abs(f(xdot) - spl(xdot)))\n",
    "\n",
    "plt.show()"
   ]
  },
  {
   "cell_type": "code",
   "execution_count": null,
   "id": "f2fbbbe4",
   "metadata": {},
   "outputs": [],
   "source": []
  }
 ],
 "metadata": {
  "kernelspec": {
   "display_name": "Python 3 (ipykernel)",
   "language": "python",
   "name": "python3"
  },
  "language_info": {
   "codemirror_mode": {
    "name": "ipython",
    "version": 3
   },
   "file_extension": ".py",
   "mimetype": "text/x-python",
   "name": "python",
   "nbconvert_exporter": "python",
   "pygments_lexer": "ipython3",
   "version": "3.8.10"
  }
 },
 "nbformat": 4,
 "nbformat_minor": 5
}
