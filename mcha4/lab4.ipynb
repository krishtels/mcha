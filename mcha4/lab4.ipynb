{
 "cells": [
  {
   "cell_type": "code",
   "execution_count": 6,
   "id": "4e8b1f92",
   "metadata": {},
   "outputs": [],
   "source": [
    "import numpy as np\n",
    "import scipy\n",
    "from sympy import *\n",
    "import random"
   ]
  },
  {
   "cell_type": "code",
   "execution_count": 2,
   "id": "e724190f",
   "metadata": {},
   "outputs": [],
   "source": [
    "%matplotlib inline\n",
    "import matplotlib.pyplot as plt\n",
    "plt.style.use('seaborn-whitegrid')\n",
    "plt.rcParams[\"figure.figsize\"] = (8,6)"
   ]
  },
  {
   "cell_type": "markdown",
   "id": "a56a9f17",
   "metadata": {},
   "source": [
    "### Вспомогательная функция"
   ]
  },
  {
   "cell_type": "code",
   "execution_count": 3,
   "id": "0c9684fa",
   "metadata": {},
   "outputs": [],
   "source": [
    "def roots_to_dict(roots, x):\n",
    "    dict_roots = dict()\n",
    "    for i in range(len(roots)):\n",
    "        dict_roots[x[i]] = roots[i]\n",
    "\n",
    "    return dict_roots"
   ]
  },
  {
   "cell_type": "markdown",
   "id": "52dda51b",
   "metadata": {},
   "source": [
    "### Якобиан"
   ]
  },
  {
   "cell_type": "code",
   "execution_count": 4,
   "id": "cc1ebcd8",
   "metadata": {},
   "outputs": [],
   "source": [
    "def get_jacobi(system_equations: np.array):\n",
    "    n = system_equations.shape[0]\n",
    "    x = symbols(f'x:{n}')\n",
    "    J = np.empty(shape=(n, n), dtype=core.add.Add)\n",
    "    for i in range(n):\n",
    "        for j in range(n):\n",
    "            J[i, j] = system_equations[i].diff(x[j])\n",
    "\n",
    "    return J"
   ]
  },
  {
   "cell_type": "markdown",
   "id": "190f4f5c",
   "metadata": {},
   "source": [
    "### Метод простых итераций"
   ]
  },
  {
   "cell_type": "code",
   "execution_count": 7,
   "id": "a36fd446",
   "metadata": {},
   "outputs": [],
   "source": [
    "def get_q(fi_equation, approx, e=0.1):\n",
    "    x_0 = approx[0]\n",
    "    x_fi = approx[1]\n",
    "    x = symbols('x:2')\n",
    "    e = 0.1\n",
    "    x_1 = random.uniform(x_0 - e, x_0 + e)\n",
    "    x_2 = random.uniform(x_0 - e, x_0 + e)\n",
    "\n",
    "    q = (abs(fi_equation.subs({x[0]: x_1, x[1]: x_fi}) - fi_equation.subs({x[0]: x_2, x[1]: x_fi}))) / (abs(x_1 - x_2))\n",
    "    return q"
   ]
  },
  {
   "cell_type": "code",
   "execution_count": 32,
   "id": "ce2b9984",
   "metadata": {},
   "outputs": [],
   "source": [
    "def iteration_solve(system_equations: np.array, approx, tol=0.00001, verbose=0):\n",
    "    if verbose == 1:\n",
    "        print('\\niteration method computing...')\n",
    "\n",
    "    n = system_equations.shape[0]\n",
    "    x = symbols(f'x:{n}')\n",
    "\n",
    "    fi_equations = system_equations[1]\n",
    "\n",
    "    prev_roots = np.zeros(shape=(n, ))\n",
    "    curr_roots = list(approx)\n",
    "\n",
    "    errors = np.zeros(shape=(n, ))\n",
    "    error = tol * 10000\n",
    "\n",
    "    J = get_jacobi(system_equations[0])\n",
    "    jacobi_values = np.zeros(shape=(n, n))\n",
    "\n",
    "    roots_d = roots_to_dict(curr_roots, x)\n",
    "\n",
    "    for i in range(n):\n",
    "        for j in range(n):\n",
    "            jacobi_values[i, j] = J[i, j].subs(roots_d)\n",
    "\n",
    "    # compute q\n",
    "    if verbose == 1:\n",
    "        q_1 = float(get_q(fi_equations[0], (approx[0], approx[1]), 0.1))\n",
    "        q_2 = float(get_q(fi_equations[1], (approx[1], approx[0]), 0.1))\n",
    "        print(f'q_1 = {q_1}')\n",
    "        print(f'q_2 = {q_2}')\n",
    "        if q_1>=1 or q_2>=1:\n",
    "            print(\"q is greater than 1\")\n",
    "            return None, None\n",
    "\n",
    "    iteration = 0\n",
    "    while error > tol:\n",
    "        prev_roots = curr_roots.copy()\n",
    "        roots_d = roots_to_dict(curr_roots, x)\n",
    "        for i in range(n):\n",
    "            try:\n",
    "                curr_roots[i] = float(fi_equations[i].subs(roots_d))\n",
    "            except TypeError:\n",
    "                print(\"some complex numbers\")\n",
    "\n",
    "            errors[i] = abs(prev_roots[i] - curr_roots[i])\n",
    "            roots_d = roots_to_dict(curr_roots, x)\n",
    "\n",
    "        error = np.amax(errors)\n",
    "        iteration += 1\n",
    "\n",
    "    if verbose == 1:\n",
    "        print('stopped iteration method\\n')\n",
    "\n",
    "    return curr_roots, iteration"
   ]
  },
  {
   "cell_type": "markdown",
   "id": "a615627f",
   "metadata": {},
   "source": [
    "### Метод Ньютона"
   ]
  },
  {
   "cell_type": "code",
   "execution_count": 9,
   "id": "40f0ec3f",
   "metadata": {},
   "outputs": [],
   "source": [
    "import numpy as np\n",
    "from sympy import symbols\n",
    "from staff_matrix import get_jacobi, roots_to_dict\n",
    "\n",
    "\n",
    "def newton_solve(system_equations: np.array, approx, tol=0.00001):\n",
    "    n = system_equations.shape[0]\n",
    "    x = symbols(f'x:{n}')\n",
    "\n",
    "    J = get_jacobi(system_equations)\n",
    "\n",
    "    error = tol * 10000\n",
    "    iteration = 0\n",
    "    roots = approx\n",
    "    while error > tol:\n",
    "        iteration += 1\n",
    "\n",
    "        roots_d = roots_to_dict(roots, x)\n",
    "        jacobi_values = np.zeros(shape=(n, n))\n",
    "        for i in range(n):\n",
    "            for j in range(n):\n",
    "                jacobi_values[i, j] = J[i, j].subs(roots_d)\n",
    "\n",
    "        jacobi_det = np.linalg.det(jacobi_values)\n",
    "        print(f\"Jacobi det = {jacobi_det}\")\n",
    "        if not jacobi_det:\n",
    "            print(\"det equal 0. Can't solve system\")\n",
    "            exit(0)\n",
    "\n",
    "        F = np.zeros(shape=(n, ))\n",
    "        for i in range(0, n):\n",
    "            F[i] = system_equations[i].subs(roots_d)\n",
    "\n",
    "        delta_x = np.zeros(shape=(n, ), dtype=float)\n",
    "        delta_x = np.linalg.solve(jacobi_values, -1 * F)\n",
    "\n",
    "        roots = delta_x + roots\n",
    "        error = np.amax(abs(delta_x))\n",
    "\n",
    "    return roots, iteration"
   ]
  },
  {
   "cell_type": "markdown",
   "id": "ee91662a",
   "metadata": {},
   "source": [
    "### Тестовый пример 1"
   ]
  },
  {
   "cell_type": "code",
   "execution_count": 10,
   "id": "f2a3170a",
   "metadata": {},
   "outputs": [],
   "source": [
    "x = symbols('x:2')"
   ]
  },
  {
   "cell_type": "code",
   "execution_count": 15,
   "id": "ee2a5c0e",
   "metadata": {},
   "outputs": [],
   "source": [
    "y_1_1 = 2*x[0]**2 - x[0]*x[1] - 5*x[0] + 1\n",
    "y_1_2 = x[0] + 3*log(x[0], 10) - x[1]**2\n",
    "approx = (3.5, 2.2)"
   ]
  },
  {
   "cell_type": "code",
   "execution_count": 12,
   "id": "7354a4e4",
   "metadata": {},
   "outputs": [],
   "source": [
    "def get_system_1_it():\n",
    "    global y_1_1, y_1_2\n",
    "    return np.array([\n",
    "        [\n",
    "            y_1_1,\n",
    "            y_1_2\n",
    "        ],\n",
    "        [\n",
    "            sqrt((x[0] * x[1] + 5*x[0] - 1) / 2),\n",
    "            sqrt(x[0]+3*log(x[0], 10))\n",
    "        ]\n",
    "        ])"
   ]
  },
  {
   "cell_type": "code",
   "execution_count": 13,
   "id": "c6afdeeb",
   "metadata": {},
   "outputs": [],
   "source": [
    "def print_list(ls, ):\n",
    "    output = [el for el in ls]\n",
    "    return output"
   ]
  },
  {
   "cell_type": "code",
   "execution_count": 14,
   "id": "03839049",
   "metadata": {},
   "outputs": [],
   "source": [
    "system = get_system_1_it()"
   ]
  },
  {
   "cell_type": "code",
   "execution_count": 16,
   "id": "14930a93",
   "metadata": {},
   "outputs": [
    {
     "name": "stdout",
     "output_type": "stream",
     "text": [
      "\t\tНачальное приближение: (3.5, 2.2)\n",
      "\n",
      "iteration method computing...\n",
      "q_1 = 0.5158238578928235\n",
      "q_2 = 0.4406675171821053\n",
      "stopped iteration method\n",
      "\n",
      "\t\t*** Метод простой итерации: ***\n",
      "Корни уравнения: [3.4874319608951048, 2.261625342754801]\n",
      "Количество итераций: 14\n",
      "--------------------\n",
      "--------------------\n",
      "\t\tНачальное приближение: (3.5, 2.2)\n",
      "Jacobi det = -25.11711655429025\n",
      "Jacobi det = -25.48384528052109\n",
      "Jacobi det = -25.46186954784371\n",
      "\t\t*** Метод Ньютона: ***\n",
      "Корни уравнения: [3.4874427876429723, 2.261628630553625]\n",
      "Количество итераций: 3\n"
     ]
    }
   ],
   "source": [
    "print(f\"\\t\\tНачальное приближение: {approx}\")\n",
    "iteration_ans = iteration_solve(system, approx, verbose=1)\n",
    "print(\"\\t\\t*** Метод простой итерации: ***\")\n",
    "print(f\"Корни уравнения: {print_list(iteration_ans[0])}\")\n",
    "print(f\"Количество итераций: {iteration_ans[1]}\")\n",
    "\n",
    "for i in range(2):\n",
    "    print('-' * 20)\n",
    "\n",
    "\n",
    "print(f\"\\t\\tНачальное приближение: {approx}\")\n",
    "newton_ans = newton_solve(system[0], approx)\n",
    "print(\"\\t\\t*** Метод Ньютона: ***\")\n",
    "print(f\"Корни уравнения: {print_list(newton_ans[0])}\")\n",
    "print(f\"Количество итераций: {newton_ans[1]}\")"
   ]
  },
  {
   "cell_type": "markdown",
   "id": "7a593408",
   "metadata": {},
   "source": [
    "### Тестовый пример 2"
   ]
  },
  {
   "cell_type": "code",
   "execution_count": 17,
   "id": "7aadf409",
   "metadata": {},
   "outputs": [],
   "source": [
    "approx = (1.8, -1.7)"
   ]
  },
  {
   "cell_type": "code",
   "execution_count": 19,
   "id": "1fb2c798",
   "metadata": {},
   "outputs": [
    {
     "name": "stdout",
     "output_type": "stream",
     "text": [
      "\t\tНачальное приближение: (1.8, -1.7)\n",
      "Jacobi det = 16.362883445709755\n",
      "Jacobi det = 10.188708287087627\n",
      "Jacobi det = 9.046328946766074\n",
      "Jacobi det = 8.997939217807113\n",
      "\t\t*** Метод Ньютона: ***\n",
      "Корни уравнения: [1.4588902301577535, -1.3967670091993125]\n",
      "Количество итераций: 4\n"
     ]
    }
   ],
   "source": [
    "\n",
    "print(f\"\\t\\tНачальное приближение: {approx}\")\n",
    "newton_ans = newton_solve(system[0], approx)\n",
    "print(\"\\t\\t*** Метод Ньютона: ***\")\n",
    "print(f\"Корни уравнения: {print_list(newton_ans[0])}\")\n",
    "print(f\"Количество итераций: {newton_ans[1]}\")"
   ]
  },
  {
   "cell_type": "code",
   "execution_count": 20,
   "id": "599099a5",
   "metadata": {},
   "outputs": [
    {
     "name": "stdout",
     "output_type": "stream",
     "text": [
      "\t\tНачальное приближение: (1.8, -1.7)\n",
      "\n",
      "iteration method computing...\n",
      "q_1 = 0.531618835427274\n"
     ]
    },
    {
     "ename": "TypeError",
     "evalue": "Cannot convert complex to float",
     "output_type": "error",
     "traceback": [
      "\u001b[0;31m---------------------------------------------------------------------------\u001b[0m",
      "\u001b[0;31mTypeError\u001b[0m                                 Traceback (most recent call last)",
      "Input \u001b[0;32mIn [20]\u001b[0m, in \u001b[0;36m<cell line: 2>\u001b[0;34m()\u001b[0m\n\u001b[1;32m      1\u001b[0m \u001b[38;5;28mprint\u001b[39m(\u001b[38;5;124mf\u001b[39m\u001b[38;5;124m\"\u001b[39m\u001b[38;5;130;01m\\t\u001b[39;00m\u001b[38;5;130;01m\\t\u001b[39;00m\u001b[38;5;124mНачальное приближение: \u001b[39m\u001b[38;5;132;01m{\u001b[39;00mapprox\u001b[38;5;132;01m}\u001b[39;00m\u001b[38;5;124m\"\u001b[39m)\n\u001b[0;32m----> 2\u001b[0m iteration_ans \u001b[38;5;241m=\u001b[39m \u001b[43miteration_solve\u001b[49m\u001b[43m(\u001b[49m\u001b[43msystem\u001b[49m\u001b[43m,\u001b[49m\u001b[43m \u001b[49m\u001b[43mapprox\u001b[49m\u001b[43m,\u001b[49m\u001b[43m \u001b[49m\u001b[43mverbose\u001b[49m\u001b[38;5;241;43m=\u001b[39;49m\u001b[38;5;241;43m1\u001b[39;49m\u001b[43m)\u001b[49m\n\u001b[1;32m      3\u001b[0m \u001b[38;5;28mprint\u001b[39m(\u001b[38;5;124m\"\u001b[39m\u001b[38;5;130;01m\\t\u001b[39;00m\u001b[38;5;130;01m\\t\u001b[39;00m\u001b[38;5;124m*** Метод простой итерации: ***\u001b[39m\u001b[38;5;124m\"\u001b[39m)\n\u001b[1;32m      4\u001b[0m \u001b[38;5;28mprint\u001b[39m(\u001b[38;5;124mf\u001b[39m\u001b[38;5;124m\"\u001b[39m\u001b[38;5;124mКорни уравнения: \u001b[39m\u001b[38;5;132;01m{\u001b[39;00mprint_list(iteration_ans[\u001b[38;5;241m0\u001b[39m])\u001b[38;5;132;01m}\u001b[39;00m\u001b[38;5;124m\"\u001b[39m)\n",
      "Input \u001b[0;32mIn [8]\u001b[0m, in \u001b[0;36miteration_solve\u001b[0;34m(system_equations, approx, tol, verbose)\u001b[0m\n\u001b[1;32m     26\u001b[0m \u001b[38;5;28;01mif\u001b[39;00m verbose \u001b[38;5;241m==\u001b[39m \u001b[38;5;241m1\u001b[39m:\n\u001b[1;32m     27\u001b[0m     \u001b[38;5;28mprint\u001b[39m(\u001b[38;5;124mf\u001b[39m\u001b[38;5;124m'\u001b[39m\u001b[38;5;124mq_1 = \u001b[39m\u001b[38;5;132;01m{\u001b[39;00m\u001b[38;5;28mfloat\u001b[39m(get_q(fi_equations[\u001b[38;5;241m0\u001b[39m], (approx[\u001b[38;5;241m0\u001b[39m], approx[\u001b[38;5;241m1\u001b[39m]), \u001b[38;5;241m0.1\u001b[39m))\u001b[38;5;132;01m}\u001b[39;00m\u001b[38;5;124m'\u001b[39m)\n\u001b[0;32m---> 28\u001b[0m     \u001b[38;5;28mprint\u001b[39m(\u001b[38;5;124mf\u001b[39m\u001b[38;5;124m'\u001b[39m\u001b[38;5;124mq_2 = \u001b[39m\u001b[38;5;132;01m{\u001b[39;00m\u001b[38;5;28mfloat\u001b[39m(get_q(fi_equations[\u001b[38;5;241m1\u001b[39m], (approx[\u001b[38;5;241m1\u001b[39m], approx[\u001b[38;5;241m0\u001b[39m]), \u001b[38;5;241m0.1\u001b[39m))\u001b[38;5;132;01m}\u001b[39;00m\u001b[38;5;124m'\u001b[39m)\n\u001b[1;32m     30\u001b[0m iteration \u001b[38;5;241m=\u001b[39m \u001b[38;5;241m0\u001b[39m\n\u001b[1;32m     31\u001b[0m \u001b[38;5;28;01mwhile\u001b[39;00m error \u001b[38;5;241m>\u001b[39m tol:\n",
      "File \u001b[0;32m~/.local/lib/python3.8/site-packages/sympy/core/expr.py:344\u001b[0m, in \u001b[0;36mExpr.__float__\u001b[0;34m(self)\u001b[0m\n\u001b[1;32m    342\u001b[0m     \u001b[38;5;28;01mreturn\u001b[39;00m \u001b[38;5;28mfloat\u001b[39m(result)\n\u001b[1;32m    343\u001b[0m \u001b[38;5;28;01mif\u001b[39;00m result\u001b[38;5;241m.\u001b[39mis_number \u001b[38;5;129;01mand\u001b[39;00m result\u001b[38;5;241m.\u001b[39mas_real_imag()[\u001b[38;5;241m1\u001b[39m]:\n\u001b[0;32m--> 344\u001b[0m     \u001b[38;5;28;01mraise\u001b[39;00m \u001b[38;5;167;01mTypeError\u001b[39;00m(\u001b[38;5;124m\"\u001b[39m\u001b[38;5;124mCannot convert complex to float\u001b[39m\u001b[38;5;124m\"\u001b[39m)\n\u001b[1;32m    345\u001b[0m \u001b[38;5;28;01mraise\u001b[39;00m \u001b[38;5;167;01mTypeError\u001b[39;00m(\u001b[38;5;124m\"\u001b[39m\u001b[38;5;124mCannot convert expression to float\u001b[39m\u001b[38;5;124m\"\u001b[39m)\n",
      "\u001b[0;31mTypeError\u001b[0m: Cannot convert complex to float"
     ]
    }
   ],
   "source": [
    "print(f\"\\t\\tНачальное приближение: {approx}\")\n",
    "iteration_ans = iteration_solve(system, approx, verbose=1)\n",
    "print(\"\\t\\t*** Метод простой итерации: ***\")\n",
    "print(f\"Корни уравнения: {print_list(iteration_ans[0])}\")\n",
    "print(f\"Количество итераций: {iteration_ans[1]}\")\n",
    "\n",
    "for i in range(2):\n",
    "    print('-' * 20)"
   ]
  },
  {
   "cell_type": "markdown",
   "id": "b6d63e92",
   "metadata": {},
   "source": [
    "### Тестовый пример 3"
   ]
  },
  {
   "cell_type": "code",
   "execution_count": 24,
   "id": "d545a014",
   "metadata": {},
   "outputs": [],
   "source": [
    "y_2_1 = x[0]**2 + x[0]*x[1] - 10\n",
    "y_2_2 = x[1] + 3*x[0]*x[1]**2 - 57\n",
    "approx = (1.5, 3.5)\n"
   ]
  },
  {
   "cell_type": "code",
   "execution_count": 22,
   "id": "ab2a4ec1",
   "metadata": {},
   "outputs": [],
   "source": [
    "def get_system_2_it():\n",
    "    global y_2_1, y_2_2\n",
    "    return np.array([\n",
    "        [\n",
    "            y_2_1,\n",
    "            y_2_2\n",
    "        ],\n",
    "        [\n",
    "            sqrt(10 - x[0]*x[1]),\n",
    "            sqrt((57-x[1]) / (3*x[0]))\n",
    "        ]\n",
    "    ])"
   ]
  },
  {
   "cell_type": "code",
   "execution_count": 25,
   "id": "00e79599",
   "metadata": {},
   "outputs": [
    {
     "name": "stdout",
     "output_type": "stream",
     "text": [
      "\t\tНачальное приближение: (1.5, 3.5)\n",
      "\n",
      "iteration method computing...\n",
      "q_1 = 0.8324715585096275\n",
      "q_2 = 0.32696307217832404\n",
      "stopped iteration method\n",
      "\n",
      "\t\t*** Метод простой итерации: ***\n",
      "Корни уравнения: [1.9999986994971521, 3.0000010616488098]\n",
      "Количество итераций: 12\n",
      "--------------------\n",
      "--------------------\n",
      "\t\tНачальное приближение: (1.5, 3.5)\n",
      "Jacobi det = 156.12499999999994\n",
      "Jacobi det = 197.78430344142228\n",
      "Jacobi det = 204.96962918261596\n",
      "Jacobi det = 204.9999473486533\n",
      "\t\t*** Метод Ньютона: ***\n",
      "Корни уравнения: [1.9999999999999798, 3.000000000000075]\n",
      "Количество итераций: 4\n"
     ]
    }
   ],
   "source": [
    "system = get_system_2_it()\n",
    "print(f\"\\t\\tНачальное приближение: {approx}\")\n",
    "iteration_ans = iteration_solve(system, approx, verbose=1)\n",
    "print(\"\\t\\t*** Метод простой итерации: ***\")\n",
    "print(f\"Корни уравнения: {print_list(iteration_ans[0])}\")\n",
    "print(f\"Количество итераций: {iteration_ans[1]}\")\n",
    "\n",
    "for i in range(2):\n",
    "    print('-' * 20)\n",
    "\n",
    "\n",
    "print(f\"\\t\\tНачальное приближение: {approx}\")\n",
    "newton_ans = newton_solve(system[0], approx)\n",
    "print(\"\\t\\t*** Метод Ньютона: ***\")\n",
    "print(f\"Корни уравнения: {print_list(newton_ans[0])}\")\n",
    "print(f\"Количество итераций: {newton_ans[1]}\")"
   ]
  },
  {
   "cell_type": "markdown",
   "id": "43832ede",
   "metadata": {},
   "source": [
    "### Тестовый пример 4"
   ]
  },
  {
   "cell_type": "code",
   "execution_count": 27,
   "id": "ce059236",
   "metadata": {},
   "outputs": [],
   "source": [
    "y_3_1 = x[0]**2 - x[1] - 1\n",
    "y_3_2 = x[0] - x[1]**2 + 1\n",
    "approx = (1.9, 1.8)"
   ]
  },
  {
   "cell_type": "code",
   "execution_count": 28,
   "id": "3d70bce3",
   "metadata": {},
   "outputs": [],
   "source": [
    "def get_system_3_it():\n",
    "    global y_3_1, y_3_2\n",
    "    return np.array([\n",
    "        [\n",
    "            y_3_1,\n",
    "            y_3_2\n",
    "        ],\n",
    "        [\n",
    "            sqrt(1+x[1]),\n",
    "            sqrt(1 + x[0])\n",
    "        ]\n",
    "    ])"
   ]
  },
  {
   "cell_type": "code",
   "execution_count": 29,
   "id": "36a576e4",
   "metadata": {},
   "outputs": [
    {
     "name": "stdout",
     "output_type": "stream",
     "text": [
      "\t\tНачальное приближение: (1.9, 1.8)\n",
      "\n",
      "iteration method computing...\n",
      "q_1 = 0.0\n",
      "q_2 = 0.29812530968953266\n",
      "stopped iteration method\n",
      "\n",
      "\t\t*** Метод простой итерации: ***\n",
      "Корни уравнения: [1.6180344244091438, 1.618034123376001]\n",
      "Количество итераций: 6\n",
      "--------------------\n",
      "--------------------\n",
      "\t\tНачальное приближение: (1.9, 1.8)\n",
      "Jacobi det = -12.679999999999998\n",
      "Jacobi det = -9.741563554219864\n",
      "Jacobi det = -9.474681428174463\n",
      "Jacobi det = -9.472136189528126\n",
      "\t\t*** Метод Ньютона: ***\n",
      "Корни уравнения: [1.6180339887498951, 1.618033988749895]\n",
      "Количество итераций: 4\n"
     ]
    }
   ],
   "source": [
    "system = get_system_3_it()\n",
    "print(f\"\\t\\tНачальное приближение: {approx}\")\n",
    "iteration_ans = iteration_solve(system, approx, verbose=1)\n",
    "print(\"\\t\\t*** Метод простой итерации: ***\")\n",
    "print(f\"Корни уравнения: {print_list(iteration_ans[0])}\")\n",
    "print(f\"Количество итераций: {iteration_ans[1]}\")\n",
    "\n",
    "for i in range(2):\n",
    "    print('-' * 20)\n",
    "\n",
    "\n",
    "print(f\"\\t\\tНачальное приближение: {approx}\")\n",
    "newton_ans = newton_solve(system[0], approx)\n",
    "print(\"\\t\\t*** Метод Ньютона: ***\")\n",
    "print(f\"Корни уравнения: {print_list(newton_ans[0])}\")\n",
    "print(f\"Количество итераций: {newton_ans[1]}\")"
   ]
  },
  {
   "cell_type": "markdown",
   "id": "80c9721a",
   "metadata": {},
   "source": [
    "### Тестовый пример 5"
   ]
  },
  {
   "cell_type": "code",
   "execution_count": 35,
   "id": "1cb8f3ba",
   "metadata": {},
   "outputs": [],
   "source": [
    "y_4_1 = x[0] + x[0]*x[1] - 4\n",
    "y_4_2 = x[0] + x[1] - 3\n",
    "approx = (1.9, 0.6)\n",
    "def get_system_4_it():\n",
    "    global y_4_1, y_4_2\n",
    "    return np.array([\n",
    "        [\n",
    "            y_4_1,\n",
    "            y_4_2\n",
    "        ],\n",
    "        [\n",
    "            x[0] + x[0]*x[1] - 4,\n",
    "            x[0] + x[1] - 3\n",
    "        ]\n",
    "    ])"
   ]
  },
  {
   "cell_type": "code",
   "execution_count": 36,
   "id": "fbc67e69",
   "metadata": {},
   "outputs": [
    {
     "name": "stdout",
     "output_type": "stream",
     "text": [
      "\t\tНачальное приближение: (1.9, 0.6)\n",
      "\n",
      "iteration method computing...\n",
      "q_1 = 1.5999999999999996\n",
      "q_2 = 0.9999999999999991\n",
      "q is greater than 1\n",
      "\t\t*** Метод простой итерации: ***\n",
      "--------------------\n",
      "--------------------\n",
      "\t\tНачальное приближение: (1.9, 0.6)\n",
      "Jacobi det = -0.30000000000000004\n",
      "Jacobi det = 0.2666666666666665\n",
      "Jacobi det = 0.1333333333333356\n",
      "Jacobi det = 0.06666666666666628\n",
      "Jacobi det = 0.03333333333332781\n",
      "Jacobi det = 0.016666666666655866\n",
      "Jacobi det = 0.008333333333342475\n",
      "Jacobi det = 0.004166666666719806\n",
      "Jacobi det = 0.00208333333327293\n",
      "Jacobi det = 0.0010416666665056574\n",
      "Jacobi det = 0.0005208333332703521\n",
      "Jacobi det = 0.00026041666538227805\n",
      "Jacobi det = 0.0001302083316642588\n",
      "Jacobi det = 6.510416258689651e-05\n",
      "Jacobi det = 3.25520764255529e-05\n",
      "\t\t*** Метод Ньютона: ***\n",
      "Корни уравнения: [1.9999918619811339, 1.0000081380188661]\n",
      "Количество итераций: 15\n"
     ]
    }
   ],
   "source": [
    "system = get_system_4_it()\n",
    "print(f\"\\t\\tНачальное приближение: {approx}\")\n",
    "iteration_ans = iteration_solve(system, approx, verbose=1)\n",
    "print(\"\\t\\t*** Метод простой итерации: ***\")\n",
    "#print(f\"Корни уравнения: {print_list(iteration_ans[0])}\")\n",
    "#print(f\"Количество итераций: {iteration_ans[1]}\")\n",
    "\n",
    "for i in range(2):\n",
    "    print('-' * 20)\n",
    "\n",
    "\n",
    "print(f\"\\t\\tНачальное приближение: {approx}\")\n",
    "newton_ans = newton_solve(system[0], approx)\n",
    "print(\"\\t\\t*** Метод Ньютона: ***\")\n",
    "print(f\"Корни уравнения: {print_list(newton_ans[0])}\")\n",
    "print(f\"Количество итераций: {newton_ans[1]}\")"
   ]
  },
  {
   "cell_type": "markdown",
   "id": "2c20a462",
   "metadata": {},
   "source": [
    "### Тестовый пример 6"
   ]
  },
  {
   "cell_type": "code",
   "execution_count": 37,
   "id": "00134e5e",
   "metadata": {},
   "outputs": [],
   "source": [
    "y_5_1 = x[0]**2 + x[0]*x[1] + x[1]**2 - 7\n",
    "y_5_2 = x[0]**3 + x[1]**3 - 9\n",
    "approx = (1.5, 0.9)\n",
    "def get_system_5_it():\n",
    "    global y_5_1, y_5_2\n",
    "    return np.array([\n",
    "        [\n",
    "            y_5_1,\n",
    "            y_5_2\n",
    "        ],\n",
    "        [\n",
    "            x[0]**2 + x[0]*x[1] + x[1]**2 - 7,\n",
    "            x[0]**3 + x[1]**3 - 9\n",
    "        ]\n",
    "    ])"
   ]
  },
  {
   "cell_type": "code",
   "execution_count": 38,
   "id": "545a3e98",
   "metadata": {},
   "outputs": [
    {
     "name": "stdout",
     "output_type": "stream",
     "text": [
      "\t\tНачальное приближение: (1.5, 0.9)\n",
      "\n",
      "iteration method computing...\n",
      "q_1 = 3.8806290962017433\n",
      "q_2 = 2.7720778978549667\n",
      "q is greater than 1\n",
      "\t\t*** Метод простой итерации: ***\n",
      "--------------------\n",
      "--------------------\n",
      "\t\tНачальное приближение: (1.5, 0.9)\n",
      "Jacobi det = -12.797999999999998\n",
      "Jacobi det = -49.51419979155356\n",
      "Jacobi det = -35.804156196742795\n",
      "Jacobi det = -33.116979273595206\n",
      "Jacobi det = -33.00021634775366\n",
      "\t\t*** Метод Ньютона: ***\n",
      "Корни уравнения: [2.0000000000117937, 0.9999999999882065]\n",
      "Количество итераций: 5\n"
     ]
    }
   ],
   "source": [
    "system = get_system_5_it()\n",
    "print(f\"\\t\\tНачальное приближение: {approx}\")\n",
    "iteration_ans = iteration_solve(system, approx, verbose=1)\n",
    "print(\"\\t\\t*** Метод простой итерации: ***\")\n",
    "#print(f\"Корни уравнения: {print_list(iteration_ans[0])}\")\n",
    "#print(f\"Количество итераций: {iteration_ans[1]}\")\n",
    "\n",
    "for i in range(2):\n",
    "    print('-' * 20)\n",
    "\n",
    "\n",
    "print(f\"\\t\\tНачальное приближение: {approx}\")\n",
    "newton_ans = newton_solve(system[0], approx)\n",
    "print(\"\\t\\t*** Метод Ньютона: ***\")\n",
    "print(f\"Корни уравнения: {print_list(newton_ans[0])}\")\n",
    "print(f\"Количество итераций: {newton_ans[1]}\")"
   ]
  },
  {
   "cell_type": "markdown",
   "id": "67dab866",
   "metadata": {},
   "source": [
    "### Задание"
   ]
  },
  {
   "cell_type": "code",
   "execution_count": 39,
   "id": "1885b1b7",
   "metadata": {},
   "outputs": [],
   "source": [
    "m = 0.2\n",
    "a = 0.8\n",
    "\n",
    "approx = (0.6, 0.6)\n",
    "\n",
    "y_1 = tan(x[0]*x[1] + m) - x[0]\n",
    "y_2 = a*x[0]**2 + 2*x[1]**2 - 1\n",
    "\n",
    "\n",
    "def get_system():\n",
    "    return np.array([\n",
    "        [\n",
    "            y_1,\n",
    "            y_2\n",
    "        ],\n",
    "        [\n",
    "            tan(x[0]*x[1] + m),\n",
    "            sqrt((1 - a*x[0]**2) / 2)\n",
    "        ]\n",
    "    ])"
   ]
  },
  {
   "cell_type": "code",
   "execution_count": 40,
   "id": "0b68b76d",
   "metadata": {},
   "outputs": [
    {
     "name": "stdout",
     "output_type": "stream",
     "text": [
      "\t\tНачальное приближение: (0.6, 0.6)\n",
      "\n",
      "iteration method computing...\n",
      "q_1 = 0.8780753382488651\n",
      "q_2 = 0.40178538780165235\n",
      "stopped iteration method\n",
      "\n",
      "\t\t*** Метод простой итерации: ***\n",
      "Корни уравнения: [0.6442300973695991, 0.5779161121281035]\n",
      "Количество итераций: 10\n",
      "--------------------\n",
      "--------------------\n",
      "\t\tНачальное приближение: (0.6, 0.6)\n",
      "Jacobi det = -1.1963912183495855\n",
      "Jacobi det = -1.372482323529407\n",
      "Jacobi det = -1.3609453316173887\n",
      "Jacobi det = -1.3609293849707207\n",
      "\t\t*** Метод Ньютона: ***\n",
      "Корни уравнения: [0.6442363542516425, 0.5779133221722967]\n",
      "Количество итераций: 4\n"
     ]
    }
   ],
   "source": [
    "system = get_system()\n",
    "print(f\"\\t\\tНачальное приближение: {approx}\")\n",
    "iteration_ans = iteration_solve(system, approx, verbose=1)\n",
    "print(\"\\t\\t*** Метод простой итерации: ***\")\n",
    "print(f\"Корни уравнения: {print_list(iteration_ans[0])}\")\n",
    "print(f\"Количество итераций: {iteration_ans[1]}\")\n",
    "\n",
    "for i in range(2):\n",
    "    print('-' * 20)\n",
    "\n",
    "\n",
    "print(f\"\\t\\tНачальное приближение: {approx}\")\n",
    "newton_ans = newton_solve(system[0], approx)\n",
    "print(\"\\t\\t*** Метод Ньютона: ***\")\n",
    "print(f\"Корни уравнения: {print_list(newton_ans[0])}\")\n",
    "print(f\"Количество итераций: {newton_ans[1]}\")"
   ]
  },
  {
   "cell_type": "markdown",
   "id": "60f0d9fa",
   "metadata": {},
   "source": [
    "### Тестовый пример 6"
   ]
  },
  {
   "cell_type": "code",
   "execution_count": 43,
   "id": "dd26dc18",
   "metadata": {},
   "outputs": [],
   "source": [
    "y_6_1 = x[0]**2 - x[1] - 1\n",
    "y_6_2 = 3*x[0]**2 - 3*x[1] - 3\n",
    "approx = (1, 1)\n",
    "def get_system_6_it():\n",
    "    global y_6_1, y_6_2\n",
    "    return np.array([\n",
    "        [\n",
    "            y_6_1,\n",
    "            y_6_2\n",
    "        ],\n",
    "        [\n",
    "            x[0]**2 - x[1] - 1,\n",
    "            3*x[0]**2 - 3*x[1] - 3\n",
    "        ]\n",
    "    ])"
   ]
  },
  {
   "cell_type": "code",
   "execution_count": 46,
   "id": "ddd5f08d",
   "metadata": {},
   "outputs": [
    {
     "name": "stdout",
     "output_type": "stream",
     "text": [
      "\t\tНачальное приближение: (1, 1)\n",
      "Jacobi det = 0.0\n",
      "det equal 0. Can't solve system\n"
     ]
    },
    {
     "ename": "LinAlgError",
     "evalue": "Singular matrix",
     "output_type": "error",
     "traceback": [
      "\u001b[0;31m---------------------------------------------------------------------------\u001b[0m",
      "\u001b[0;31mLinAlgError\u001b[0m                               Traceback (most recent call last)",
      "Input \u001b[0;32mIn [46]\u001b[0m, in \u001b[0;36m<cell line: 5>\u001b[0;34m()\u001b[0m\n\u001b[1;32m      1\u001b[0m system \u001b[38;5;241m=\u001b[39m get_system_6_it()\n\u001b[1;32m      4\u001b[0m \u001b[38;5;28mprint\u001b[39m(\u001b[38;5;124mf\u001b[39m\u001b[38;5;124m\"\u001b[39m\u001b[38;5;130;01m\\t\u001b[39;00m\u001b[38;5;130;01m\\t\u001b[39;00m\u001b[38;5;124mНачальное приближение: \u001b[39m\u001b[38;5;132;01m{\u001b[39;00mapprox\u001b[38;5;132;01m}\u001b[39;00m\u001b[38;5;124m\"\u001b[39m)\n\u001b[0;32m----> 5\u001b[0m newton_ans \u001b[38;5;241m=\u001b[39m \u001b[43mnewton_solve\u001b[49m\u001b[43m(\u001b[49m\u001b[43msystem\u001b[49m\u001b[43m[\u001b[49m\u001b[38;5;241;43m0\u001b[39;49m\u001b[43m]\u001b[49m\u001b[43m,\u001b[49m\u001b[43m \u001b[49m\u001b[43mapprox\u001b[49m\u001b[43m)\u001b[49m\n\u001b[1;32m      6\u001b[0m \u001b[38;5;28mprint\u001b[39m(\u001b[38;5;124m\"\u001b[39m\u001b[38;5;130;01m\\t\u001b[39;00m\u001b[38;5;130;01m\\t\u001b[39;00m\u001b[38;5;124m*** Метод Ньютона: ***\u001b[39m\u001b[38;5;124m\"\u001b[39m)\n\u001b[1;32m      7\u001b[0m \u001b[38;5;28mprint\u001b[39m(\u001b[38;5;124mf\u001b[39m\u001b[38;5;124m\"\u001b[39m\u001b[38;5;124mКорни уравнения: \u001b[39m\u001b[38;5;132;01m{\u001b[39;00mprint_list(newton_ans[\u001b[38;5;241m0\u001b[39m])\u001b[38;5;132;01m}\u001b[39;00m\u001b[38;5;124m\"\u001b[39m)\n",
      "Input \u001b[0;32mIn [9]\u001b[0m, in \u001b[0;36mnewton_solve\u001b[0;34m(system_equations, approx, tol)\u001b[0m\n\u001b[1;32m     32\u001b[0m     F[i] \u001b[38;5;241m=\u001b[39m system_equations[i]\u001b[38;5;241m.\u001b[39msubs(roots_d)\n\u001b[1;32m     34\u001b[0m delta_x \u001b[38;5;241m=\u001b[39m np\u001b[38;5;241m.\u001b[39mzeros(shape\u001b[38;5;241m=\u001b[39m(n, ), dtype\u001b[38;5;241m=\u001b[39m\u001b[38;5;28mfloat\u001b[39m)\n\u001b[0;32m---> 35\u001b[0m delta_x \u001b[38;5;241m=\u001b[39m \u001b[43mnp\u001b[49m\u001b[38;5;241;43m.\u001b[39;49m\u001b[43mlinalg\u001b[49m\u001b[38;5;241;43m.\u001b[39;49m\u001b[43msolve\u001b[49m\u001b[43m(\u001b[49m\u001b[43mjacobi_values\u001b[49m\u001b[43m,\u001b[49m\u001b[43m \u001b[49m\u001b[38;5;241;43m-\u001b[39;49m\u001b[38;5;241;43m1\u001b[39;49m\u001b[43m \u001b[49m\u001b[38;5;241;43m*\u001b[39;49m\u001b[43m \u001b[49m\u001b[43mF\u001b[49m\u001b[43m)\u001b[49m\n\u001b[1;32m     37\u001b[0m roots \u001b[38;5;241m=\u001b[39m delta_x \u001b[38;5;241m+\u001b[39m roots\n\u001b[1;32m     38\u001b[0m error \u001b[38;5;241m=\u001b[39m np\u001b[38;5;241m.\u001b[39mamax(\u001b[38;5;28mabs\u001b[39m(delta_x))\n",
      "File \u001b[0;32m<__array_function__ internals>:180\u001b[0m, in \u001b[0;36msolve\u001b[0;34m(*args, **kwargs)\u001b[0m\n",
      "File \u001b[0;32m/usr/local/lib/python3.8/dist-packages/numpy/linalg/linalg.py:393\u001b[0m, in \u001b[0;36msolve\u001b[0;34m(a, b)\u001b[0m\n\u001b[1;32m    391\u001b[0m signature \u001b[38;5;241m=\u001b[39m \u001b[38;5;124m'\u001b[39m\u001b[38;5;124mDD->D\u001b[39m\u001b[38;5;124m'\u001b[39m \u001b[38;5;28;01mif\u001b[39;00m isComplexType(t) \u001b[38;5;28;01melse\u001b[39;00m \u001b[38;5;124m'\u001b[39m\u001b[38;5;124mdd->d\u001b[39m\u001b[38;5;124m'\u001b[39m\n\u001b[1;32m    392\u001b[0m extobj \u001b[38;5;241m=\u001b[39m get_linalg_error_extobj(_raise_linalgerror_singular)\n\u001b[0;32m--> 393\u001b[0m r \u001b[38;5;241m=\u001b[39m \u001b[43mgufunc\u001b[49m\u001b[43m(\u001b[49m\u001b[43ma\u001b[49m\u001b[43m,\u001b[49m\u001b[43m \u001b[49m\u001b[43mb\u001b[49m\u001b[43m,\u001b[49m\u001b[43m \u001b[49m\u001b[43msignature\u001b[49m\u001b[38;5;241;43m=\u001b[39;49m\u001b[43msignature\u001b[49m\u001b[43m,\u001b[49m\u001b[43m \u001b[49m\u001b[43mextobj\u001b[49m\u001b[38;5;241;43m=\u001b[39;49m\u001b[43mextobj\u001b[49m\u001b[43m)\u001b[49m\n\u001b[1;32m    395\u001b[0m \u001b[38;5;28;01mreturn\u001b[39;00m wrap(r\u001b[38;5;241m.\u001b[39mastype(result_t, copy\u001b[38;5;241m=\u001b[39m\u001b[38;5;28;01mFalse\u001b[39;00m))\n",
      "File \u001b[0;32m/usr/local/lib/python3.8/dist-packages/numpy/linalg/linalg.py:88\u001b[0m, in \u001b[0;36m_raise_linalgerror_singular\u001b[0;34m(err, flag)\u001b[0m\n\u001b[1;32m     87\u001b[0m \u001b[38;5;28;01mdef\u001b[39;00m \u001b[38;5;21m_raise_linalgerror_singular\u001b[39m(err, flag):\n\u001b[0;32m---> 88\u001b[0m     \u001b[38;5;28;01mraise\u001b[39;00m LinAlgError(\u001b[38;5;124m\"\u001b[39m\u001b[38;5;124mSingular matrix\u001b[39m\u001b[38;5;124m\"\u001b[39m)\n",
      "\u001b[0;31mLinAlgError\u001b[0m: Singular matrix"
     ]
    }
   ],
   "source": [
    "system = get_system_6_it()\n",
    "\n",
    "\n",
    "print(f\"\\t\\tНачальное приближение: {approx}\")\n",
    "newton_ans = newton_solve(system[0], approx)\n",
    "print(\"\\t\\t*** Метод Ньютона: ***\")\n",
    "print(f\"Корни уравнения: {print_list(newton_ans[0])}\")\n",
    "print(f\"Количество итераций: {newton_ans[1]}\")"
   ]
  },
  {
   "cell_type": "code",
   "execution_count": null,
   "id": "1097879a",
   "metadata": {},
   "outputs": [],
   "source": []
  }
 ],
 "metadata": {
  "kernelspec": {
   "display_name": "Python 3 (ipykernel)",
   "language": "python",
   "name": "python3"
  },
  "language_info": {
   "codemirror_mode": {
    "name": "ipython",
    "version": 3
   },
   "file_extension": ".py",
   "mimetype": "text/x-python",
   "name": "python",
   "nbconvert_exporter": "python",
   "pygments_lexer": "ipython3",
   "version": "3.8.10"
  }
 },
 "nbformat": 4,
 "nbformat_minor": 5
}
